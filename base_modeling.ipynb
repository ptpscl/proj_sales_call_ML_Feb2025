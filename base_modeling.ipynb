{
 "cells": [
  {
   "cell_type": "markdown",
   "metadata": {},
   "source": [
    "# Base Modeling\n",
    "Created by: Pat PascuaL\n"
   ]
  },
  {
   "cell_type": "code",
   "execution_count": 52,
   "metadata": {},
   "outputs": [],
   "source": [
    "# general libraries\n",
    "import re\n",
    "import time\n",
    "import json\n",
    "import pickle\n",
    "import warnings\n",
    "import numpy as np\n",
    "import pandas as pd\n",
    "from tqdm.notebook import tqdm\n",
    "from collections import Counter\n",
    "warnings.filterwarnings(\"ignore\")\n",
    "\n",
    "# visualizations\n",
    "import seaborn as sns\n",
    "from termcolor import colored\n",
    "import matplotlib.pyplot as plt\n",
    "import plotly.graph_objects as go\n",
    "\n",
    "# modelling\n",
    "from sklearn.preprocessing import MinMaxScaler\n",
    "from sklearn.model_selection import (train_test_split, GridSearchCV,\n",
    "                                     StratifiedKFold)\n",
    "from sklearn.neighbors import KNeighborsClassifier\n",
    "from sklearn.svm import SVC\n",
    "from sklearn.linear_model import LogisticRegression\n",
    "from sklearn.naive_bayes import GaussianNB\n",
    "from sklearn.tree import DecisionTreeClassifier\n",
    "from sklearn.ensemble import (RandomForestClassifier,\n",
    "                              GradientBoostingClassifier)\n",
    "from sklearn.model_selection import cross_validate\n",
    "from sklearn.metrics import (ConfusionMatrixDisplay, precision_score, recall_score)\n",
    "\n",
    "# imbalanced techniques\n",
    "from imblearn.pipeline import Pipeline, make_pipeline\n",
    "from imblearn.over_sampling import (SMOTE, ADASYN, BorderlineSMOTE, SVMSMOTE)\n",
    "from imblearn.under_sampling import (TomekLinks, NearMiss, AllKNN,\n",
    "                                     EditedNearestNeighbours,\n",
    "                                     RepeatedEditedNearestNeighbours)\n",
    "from imblearn.combine import SMOTETomek, SMOTEENN\n",
    "\n"
   ]
  },
  {
   "cell_type": "code",
   "execution_count": 53,
   "metadata": {},
   "outputs": [],
   "source": [
    "raw = pd.read_csv('df_raw.csv')\n",
    "clean = pd.read_csv('df_cleaned.csv')"
   ]
  },
  {
   "cell_type": "code",
   "execution_count": 54,
   "metadata": {},
   "outputs": [
    {
     "data": {
      "text/html": [
       "<div>\n",
       "<style scoped>\n",
       "    .dataframe tbody tr th:only-of-type {\n",
       "        vertical-align: middle;\n",
       "    }\n",
       "\n",
       "    .dataframe tbody tr th {\n",
       "        vertical-align: top;\n",
       "    }\n",
       "\n",
       "    .dataframe thead th {\n",
       "        text-align: right;\n",
       "    }\n",
       "</style>\n",
       "<table border=\"1\" class=\"dataframe\">\n",
       "  <thead>\n",
       "    <tr style=\"text-align: right;\">\n",
       "      <th></th>\n",
       "      <th>Feature_ae_0</th>\n",
       "      <th>Feature_dn_1</th>\n",
       "      <th>Feature_cn_2</th>\n",
       "      <th>Feature_ps_3</th>\n",
       "      <th>Feature_ps_4</th>\n",
       "      <th>Feature_ee_5</th>\n",
       "      <th>Feature_cx_6</th>\n",
       "      <th>Feature_cx_7</th>\n",
       "      <th>Feature_em_8</th>\n",
       "      <th>Feature_nd_9</th>\n",
       "      <th>...</th>\n",
       "      <th>Feature_md_17_Cat_6_m***y</th>\n",
       "      <th>Feature_md_17_Cat_7_n***v</th>\n",
       "      <th>Feature_md_17_Cat_8_o***t</th>\n",
       "      <th>Feature_md_17_Cat_9_s***p</th>\n",
       "      <th>Feature_dd_18_Cat_1_m***n</th>\n",
       "      <th>Feature_dd_18_Cat_2_t***u</th>\n",
       "      <th>Feature_dd_18_Cat_3_t***e</th>\n",
       "      <th>Feature_dd_18_Cat_4_w***d</th>\n",
       "      <th>Feature_pd_19_Cat_1_n***t</th>\n",
       "      <th>Feature_pd_19_Cat_2_s***s</th>\n",
       "    </tr>\n",
       "  </thead>\n",
       "  <tbody>\n",
       "    <tr>\n",
       "      <th>0</th>\n",
       "      <td>1.627455</td>\n",
       "      <td>0.437448</td>\n",
       "      <td>-0.564554</td>\n",
       "      <td>0.195573</td>\n",
       "      <td>1.668929</td>\n",
       "      <td>-1.197216</td>\n",
       "      <td>-1.180303</td>\n",
       "      <td>-1.229706</td>\n",
       "      <td>-1.338106</td>\n",
       "      <td>-0.941368</td>\n",
       "      <td>...</td>\n",
       "      <td>True</td>\n",
       "      <td>False</td>\n",
       "      <td>False</td>\n",
       "      <td>False</td>\n",
       "      <td>True</td>\n",
       "      <td>False</td>\n",
       "      <td>False</td>\n",
       "      <td>False</td>\n",
       "      <td>False</td>\n",
       "      <td>False</td>\n",
       "    </tr>\n",
       "    <tr>\n",
       "      <th>1</th>\n",
       "      <td>1.435649</td>\n",
       "      <td>0.104904</td>\n",
       "      <td>-0.203244</td>\n",
       "      <td>0.195573</td>\n",
       "      <td>-0.351001</td>\n",
       "      <td>0.648782</td>\n",
       "      <td>0.722754</td>\n",
       "      <td>0.891772</td>\n",
       "      <td>0.714889</td>\n",
       "      <td>0.332017</td>\n",
       "      <td>...</td>\n",
       "      <td>True</td>\n",
       "      <td>False</td>\n",
       "      <td>False</td>\n",
       "      <td>False</td>\n",
       "      <td>False</td>\n",
       "      <td>True</td>\n",
       "      <td>False</td>\n",
       "      <td>False</td>\n",
       "      <td>True</td>\n",
       "      <td>False</td>\n",
       "    </tr>\n",
       "    <tr>\n",
       "      <th>2</th>\n",
       "      <td>-0.674223</td>\n",
       "      <td>-0.796060</td>\n",
       "      <td>-0.564554</td>\n",
       "      <td>0.195573</td>\n",
       "      <td>1.668929</td>\n",
       "      <td>-1.197216</td>\n",
       "      <td>-1.180303</td>\n",
       "      <td>-1.229706</td>\n",
       "      <td>-1.330035</td>\n",
       "      <td>-0.941368</td>\n",
       "      <td>...</td>\n",
       "      <td>True</td>\n",
       "      <td>False</td>\n",
       "      <td>False</td>\n",
       "      <td>False</td>\n",
       "      <td>False</td>\n",
       "      <td>False</td>\n",
       "      <td>False</td>\n",
       "      <td>False</td>\n",
       "      <td>False</td>\n",
       "      <td>False</td>\n",
       "    </tr>\n",
       "    <tr>\n",
       "      <th>3</th>\n",
       "      <td>-0.386513</td>\n",
       "      <td>0.375579</td>\n",
       "      <td>0.519376</td>\n",
       "      <td>0.195573</td>\n",
       "      <td>-0.351001</td>\n",
       "      <td>0.839748</td>\n",
       "      <td>1.536869</td>\n",
       "      <td>-0.277205</td>\n",
       "      <td>0.776577</td>\n",
       "      <td>0.846082</td>\n",
       "      <td>...</td>\n",
       "      <td>False</td>\n",
       "      <td>False</td>\n",
       "      <td>False</td>\n",
       "      <td>False</td>\n",
       "      <td>False</td>\n",
       "      <td>False</td>\n",
       "      <td>False</td>\n",
       "      <td>False</td>\n",
       "      <td>True</td>\n",
       "      <td>False</td>\n",
       "    </tr>\n",
       "    <tr>\n",
       "      <th>4</th>\n",
       "      <td>-1.249642</td>\n",
       "      <td>-0.266309</td>\n",
       "      <td>-0.203244</td>\n",
       "      <td>0.195573</td>\n",
       "      <td>-0.351001</td>\n",
       "      <td>0.839748</td>\n",
       "      <td>0.591390</td>\n",
       "      <td>-0.472035</td>\n",
       "      <td>0.774271</td>\n",
       "      <td>0.846082</td>\n",
       "      <td>...</td>\n",
       "      <td>False</td>\n",
       "      <td>False</td>\n",
       "      <td>False</td>\n",
       "      <td>False</td>\n",
       "      <td>False</td>\n",
       "      <td>False</td>\n",
       "      <td>False</td>\n",
       "      <td>False</td>\n",
       "      <td>True</td>\n",
       "      <td>False</td>\n",
       "    </tr>\n",
       "  </tbody>\n",
       "</table>\n",
       "<p>5 rows × 54 columns</p>\n",
       "</div>"
      ],
      "text/plain": [
       "   Feature_ae_0  Feature_dn_1  Feature_cn_2  Feature_ps_3  Feature_ps_4  \\\n",
       "0      1.627455      0.437448     -0.564554      0.195573      1.668929   \n",
       "1      1.435649      0.104904     -0.203244      0.195573     -0.351001   \n",
       "2     -0.674223     -0.796060     -0.564554      0.195573      1.668929   \n",
       "3     -0.386513      0.375579      0.519376      0.195573     -0.351001   \n",
       "4     -1.249642     -0.266309     -0.203244      0.195573     -0.351001   \n",
       "\n",
       "   Feature_ee_5  Feature_cx_6  Feature_cx_7  Feature_em_8  Feature_nd_9  ...  \\\n",
       "0     -1.197216     -1.180303     -1.229706     -1.338106     -0.941368  ...   \n",
       "1      0.648782      0.722754      0.891772      0.714889      0.332017  ...   \n",
       "2     -1.197216     -1.180303     -1.229706     -1.330035     -0.941368  ...   \n",
       "3      0.839748      1.536869     -0.277205      0.776577      0.846082  ...   \n",
       "4      0.839748      0.591390     -0.472035      0.774271      0.846082  ...   \n",
       "\n",
       "   Feature_md_17_Cat_6_m***y  Feature_md_17_Cat_7_n***v  \\\n",
       "0                       True                      False   \n",
       "1                       True                      False   \n",
       "2                       True                      False   \n",
       "3                      False                      False   \n",
       "4                      False                      False   \n",
       "\n",
       "   Feature_md_17_Cat_8_o***t  Feature_md_17_Cat_9_s***p  \\\n",
       "0                      False                      False   \n",
       "1                      False                      False   \n",
       "2                      False                      False   \n",
       "3                      False                      False   \n",
       "4                      False                      False   \n",
       "\n",
       "   Feature_dd_18_Cat_1_m***n  Feature_dd_18_Cat_2_t***u  \\\n",
       "0                       True                      False   \n",
       "1                      False                       True   \n",
       "2                      False                      False   \n",
       "3                      False                      False   \n",
       "4                      False                      False   \n",
       "\n",
       "   Feature_dd_18_Cat_3_t***e  Feature_dd_18_Cat_4_w***d  \\\n",
       "0                      False                      False   \n",
       "1                      False                      False   \n",
       "2                      False                      False   \n",
       "3                      False                      False   \n",
       "4                      False                      False   \n",
       "\n",
       "   Feature_pd_19_Cat_1_n***t  Feature_pd_19_Cat_2_s***s  \n",
       "0                      False                      False  \n",
       "1                       True                      False  \n",
       "2                      False                      False  \n",
       "3                       True                      False  \n",
       "4                       True                      False  \n",
       "\n",
       "[5 rows x 54 columns]"
      ]
     },
     "execution_count": 54,
     "metadata": {},
     "output_type": "execute_result"
    }
   ],
   "source": [
    "raw.head()"
   ]
  },
  {
   "cell_type": "code",
   "execution_count": 55,
   "metadata": {},
   "outputs": [
    {
     "data": {
      "text/html": [
       "<div>\n",
       "<style scoped>\n",
       "    .dataframe tbody tr th:only-of-type {\n",
       "        vertical-align: middle;\n",
       "    }\n",
       "\n",
       "    .dataframe tbody tr th {\n",
       "        vertical-align: top;\n",
       "    }\n",
       "\n",
       "    .dataframe thead th {\n",
       "        text-align: right;\n",
       "    }\n",
       "</style>\n",
       "<table border=\"1\" class=\"dataframe\">\n",
       "  <thead>\n",
       "    <tr style=\"text-align: right;\">\n",
       "      <th></th>\n",
       "      <th>Response</th>\n",
       "      <th>Feature_cx_6_std</th>\n",
       "      <th>Feature_cx_7_std</th>\n",
       "      <th>month_Cat_0_a***r</th>\n",
       "      <th>month_Cat_1_a***g</th>\n",
       "      <th>month_Cat_2_d***c</th>\n",
       "      <th>month_Cat_3_j***l</th>\n",
       "      <th>month_Cat_4_j***n</th>\n",
       "      <th>month_Cat_5_m***r</th>\n",
       "      <th>month_Cat_6_m***y</th>\n",
       "      <th>month_Cat_7_n***v</th>\n",
       "      <th>month_Cat_8_o***t</th>\n",
       "      <th>month_Cat_9_s***p</th>\n",
       "      <th>previous_campaign_Cat_0_f***e</th>\n",
       "      <th>previous_campaign_Cat_1_n***t</th>\n",
       "      <th>previous_campaign_Cat_2_s***s</th>\n",
       "      <th>age_encoded</th>\n",
       "      <th>duration_encoded</th>\n",
       "      <th>interest_rate_encoded</th>\n",
       "    </tr>\n",
       "  </thead>\n",
       "  <tbody>\n",
       "    <tr>\n",
       "      <th>0</th>\n",
       "      <td>0</td>\n",
       "      <td>-1.180303</td>\n",
       "      <td>-1.229706</td>\n",
       "      <td>False</td>\n",
       "      <td>False</td>\n",
       "      <td>False</td>\n",
       "      <td>False</td>\n",
       "      <td>False</td>\n",
       "      <td>False</td>\n",
       "      <td>True</td>\n",
       "      <td>False</td>\n",
       "      <td>False</td>\n",
       "      <td>False</td>\n",
       "      <td>True</td>\n",
       "      <td>False</td>\n",
       "      <td>False</td>\n",
       "      <td>3</td>\n",
       "      <td>2</td>\n",
       "      <td>0</td>\n",
       "    </tr>\n",
       "    <tr>\n",
       "      <th>1</th>\n",
       "      <td>0</td>\n",
       "      <td>0.722754</td>\n",
       "      <td>0.891772</td>\n",
       "      <td>False</td>\n",
       "      <td>False</td>\n",
       "      <td>False</td>\n",
       "      <td>False</td>\n",
       "      <td>False</td>\n",
       "      <td>False</td>\n",
       "      <td>True</td>\n",
       "      <td>False</td>\n",
       "      <td>False</td>\n",
       "      <td>False</td>\n",
       "      <td>False</td>\n",
       "      <td>True</td>\n",
       "      <td>False</td>\n",
       "      <td>3</td>\n",
       "      <td>1</td>\n",
       "      <td>2</td>\n",
       "    </tr>\n",
       "    <tr>\n",
       "      <th>2</th>\n",
       "      <td>0</td>\n",
       "      <td>-1.180303</td>\n",
       "      <td>-1.229706</td>\n",
       "      <td>False</td>\n",
       "      <td>False</td>\n",
       "      <td>False</td>\n",
       "      <td>False</td>\n",
       "      <td>False</td>\n",
       "      <td>False</td>\n",
       "      <td>True</td>\n",
       "      <td>False</td>\n",
       "      <td>False</td>\n",
       "      <td>False</td>\n",
       "      <td>True</td>\n",
       "      <td>False</td>\n",
       "      <td>False</td>\n",
       "      <td>1</td>\n",
       "      <td>0</td>\n",
       "      <td>1</td>\n",
       "    </tr>\n",
       "    <tr>\n",
       "      <th>3</th>\n",
       "      <td>0</td>\n",
       "      <td>1.536869</td>\n",
       "      <td>-0.277205</td>\n",
       "      <td>False</td>\n",
       "      <td>False</td>\n",
       "      <td>False</td>\n",
       "      <td>False</td>\n",
       "      <td>True</td>\n",
       "      <td>False</td>\n",
       "      <td>False</td>\n",
       "      <td>False</td>\n",
       "      <td>False</td>\n",
       "      <td>False</td>\n",
       "      <td>False</td>\n",
       "      <td>True</td>\n",
       "      <td>False</td>\n",
       "      <td>1</td>\n",
       "      <td>2</td>\n",
       "      <td>4</td>\n",
       "    </tr>\n",
       "    <tr>\n",
       "      <th>4</th>\n",
       "      <td>0</td>\n",
       "      <td>0.591390</td>\n",
       "      <td>-0.472035</td>\n",
       "      <td>False</td>\n",
       "      <td>False</td>\n",
       "      <td>False</td>\n",
       "      <td>True</td>\n",
       "      <td>False</td>\n",
       "      <td>False</td>\n",
       "      <td>False</td>\n",
       "      <td>False</td>\n",
       "      <td>False</td>\n",
       "      <td>False</td>\n",
       "      <td>False</td>\n",
       "      <td>True</td>\n",
       "      <td>False</td>\n",
       "      <td>0</td>\n",
       "      <td>1</td>\n",
       "      <td>4</td>\n",
       "    </tr>\n",
       "  </tbody>\n",
       "</table>\n",
       "</div>"
      ],
      "text/plain": [
       "   Response  Feature_cx_6_std  Feature_cx_7_std  month_Cat_0_a***r  \\\n",
       "0         0         -1.180303         -1.229706              False   \n",
       "1         0          0.722754          0.891772              False   \n",
       "2         0         -1.180303         -1.229706              False   \n",
       "3         0          1.536869         -0.277205              False   \n",
       "4         0          0.591390         -0.472035              False   \n",
       "\n",
       "   month_Cat_1_a***g  month_Cat_2_d***c  month_Cat_3_j***l  month_Cat_4_j***n  \\\n",
       "0              False              False              False              False   \n",
       "1              False              False              False              False   \n",
       "2              False              False              False              False   \n",
       "3              False              False              False               True   \n",
       "4              False              False               True              False   \n",
       "\n",
       "   month_Cat_5_m***r  month_Cat_6_m***y  month_Cat_7_n***v  month_Cat_8_o***t  \\\n",
       "0              False               True              False              False   \n",
       "1              False               True              False              False   \n",
       "2              False               True              False              False   \n",
       "3              False              False              False              False   \n",
       "4              False              False              False              False   \n",
       "\n",
       "   month_Cat_9_s***p  previous_campaign_Cat_0_f***e  \\\n",
       "0              False                           True   \n",
       "1              False                          False   \n",
       "2              False                           True   \n",
       "3              False                          False   \n",
       "4              False                          False   \n",
       "\n",
       "   previous_campaign_Cat_1_n***t  previous_campaign_Cat_2_s***s  age_encoded  \\\n",
       "0                          False                          False            3   \n",
       "1                           True                          False            3   \n",
       "2                          False                          False            1   \n",
       "3                           True                          False            1   \n",
       "4                           True                          False            0   \n",
       "\n",
       "   duration_encoded  interest_rate_encoded  \n",
       "0                 2                      0  \n",
       "1                 1                      2  \n",
       "2                 0                      1  \n",
       "3                 2                      4  \n",
       "4                 1                      4  "
      ]
     },
     "execution_count": 55,
     "metadata": {},
     "output_type": "execute_result"
    }
   ],
   "source": [
    "clean.head()"
   ]
  },
  {
   "cell_type": "code",
   "execution_count": 56,
   "metadata": {},
   "outputs": [
    {
     "name": "stdout",
     "output_type": "stream",
     "text": [
      "Response Counts:       0\n",
      "0  31060\n",
      "1   3929\n",
      "Proportion Chance Criterion: 80.06%\n",
      "1.25 * Proportion Chance Criterion: 100.08%\n"
     ]
    },
    {
     "data": {
      "text/plain": [
       "<Figure size 800x600 with 0 Axes>"
      ]
     },
     "metadata": {},
     "output_type": "display_data"
    },
    {
     "data": {
      "image/png": "[encoded data removed]",
      "text/plain": [
       "<Figure size 640x480 with 1 Axes>"
      ]
     },
     "metadata": {},
     "output_type": "display_data"
    }
   ],
   "source": [
    "# Count responses\n",
    "response_counts = Counter(clean['Response'])\n",
    "response_df = pd.DataFrame.from_dict(response_counts, orient='index')\n",
    "\n",
    "# Plot response distribution\n",
    "plt.figure(figsize=(8, 6))\n",
    "response_df.plot(kind='bar', color='#4C72B0')  # Using the blue color from the image\n",
    "plt.title('Distribution of Response Classes')\n",
    "plt.xlabel('Response')\n",
    "plt.ylabel('Count')\n",
    "\n",
    "# Calculate proportion chance criterion\n",
    "num = (response_df[0]/response_df[0].sum())**2\n",
    "\n",
    "print(\"Response Counts:{}\".format(response_df))\n",
    "\n",
    "print(\"Proportion Chance Criterion: {:0.2f}%\".format(100*num.sum()))\n",
    "print(\"1.25 * Proportion Chance Criterion: {:0.2f}%\".format(1.25*100*num.sum()))\n",
    "\n",
    "# Interpretation:\n",
    "# The Proportion Chance Criterion (PCC) represents the accuracy that would be achieved by randomly \n",
    "# guessing based on the observed class proportions in the dataset. For example, if 80% of cases are\n",
    "# class 0, randomly guessing class 0 every time would give 80% accuracy.\n",
    "#\n",
    "# The 1.25 * PCC threshold is commonly used as a minimum performance benchmark - any useful model\n",
    "# should perform at least 25% better than random guessing. This helps determine if the model has\n",
    "# actually learned meaningful patterns in the data rather than just reflecting class imbalances."
   ]
  },
  {
   "cell_type": "code",
   "execution_count": 57,
   "metadata": {},
   "outputs": [],
   "source": [
    "# Split data into train-validation-holdout sets\n",
    "X = clean.drop(['Response'], axis=1)\n",
    "y = clean['Response']\n",
    "\n",
    "# First split: separate holdout set (75% train+val, 25% holdout)\n",
    "X_trainval, X_holdout, y_trainval, y_holdout = train_test_split(\n",
    "    X, y,\n",
    "    test_size=0.25,  # 25% holdout\n",
    "    random_state=11,\n",
    "    stratify=y  # Maintain class distribution\n",
    ")"
   ]
  },
  {
   "cell_type": "code",
   "execution_count": 58,
   "metadata": {},
   "outputs": [],
   "source": [
    "# Split raw data into train-validation-holdout sets\n",
    "X_raw = raw.drop(['Response'], axis=1)\n",
    "y_raw = raw['Response']\n",
    "\n",
    "# First split: separate holdout set (75% train+val, 25% holdout) \n",
    "X_trainval_raw, X_holdout_raw, y_trainval_raw, y_holdout_raw = train_test_split(\n",
    "    X_raw, y_raw,\n",
    "    test_size=0.25,  # 25% holdout\n",
    "    random_state=11,\n",
    "    stratify=y_raw  # Maintain class distribution\n",
    ")\n"
   ]
  },
  {
   "cell_type": "code",
   "execution_count": 59,
   "metadata": {},
   "outputs": [],
   "source": [
    "def auto_ml(X_trainval, y_trainval, models_dict, cv=None, res_t=None):\n",
    "    \"\"\"Apply ML models with optional resampling\"\"\"\n",
    "    from sklearn.metrics import f1_score, precision_score, recall_score, roc_auc_score\n",
    "    results = {}\n",
    "    \n",
    "    # For each model\n",
    "    for model_name, model in tqdm(models_dict.items()):\n",
    "        model_start = time.time()\n",
    "        \n",
    "        # Initialize metric lists\n",
    "        train_scores, val_scores = [], []\n",
    "        train_recall, val_recall = [], []\n",
    "        train_precision, val_precision = [], []\n",
    "        train_f1, val_f1 = [], []\n",
    "        train_roc_auc, val_roc_auc = [], []\n",
    "        \n",
    "        # For each fold\n",
    "        for train_index, val_index in tqdm(cv.split(X_trainval, y_trainval)):\n",
    "            X_train, X_val = X_trainval.iloc[train_index], X_trainval.iloc[val_index]\n",
    "            y_train, y_val = y_trainval.iloc[train_index], y_trainval.iloc[val_index]\n",
    "\n",
    "            # Apply resampling\n",
    "            if res_t is not None:\n",
    "                X_train, y_train = res_t.fit_resample(X_train, y_train)\n",
    "\n",
    "            # Fit and predict\n",
    "            model.fit(X_train, y_train)\n",
    "            train_preds = model.predict(X_train)\n",
    "            val_preds = model.predict(X_val)\n",
    "            \n",
    "            # Get probability predictions for ROC AUC\n",
    "            train_probs = model.predict_proba(X_train)[:,1]\n",
    "            val_probs = model.predict_proba(X_val)[:,1]\n",
    "\n",
    "            # Calculate metrics\n",
    "            train_scores.append(model.score(X_train, y_train))\n",
    "            val_scores.append(model.score(X_val, y_val))\n",
    "            train_recall.append(recall_score(y_train, train_preds, average='weighted'))\n",
    "            val_recall.append(recall_score(y_val, val_preds, average='weighted'))\n",
    "            train_precision.append(precision_score(y_train, train_preds, average='weighted'))\n",
    "            val_precision.append(precision_score(y_val, val_preds, average='weighted'))\n",
    "            train_f1.append(f1_score(y_train, train_preds, average='weighted'))\n",
    "            val_f1.append(f1_score(y_val, val_preds, average='weighted'))\n",
    "            train_roc_auc.append(roc_auc_score(y_train, train_probs))\n",
    "            val_roc_auc.append(roc_auc_score(y_val, val_probs))\n",
    "\n",
    "        # Store aggregated results\n",
    "        results[model_name] = {\n",
    "            'Train Accuracy': f\"{np.mean(train_scores)*100:.2f}%\",\n",
    "            'Val Accuracy': f\"{np.mean(val_scores)*100:.2f}%\",\n",
    "            'Train Recall': f\"{np.mean(train_recall)*100:.2f}%\", \n",
    "            'Train Precision': f\"{np.mean(train_precision)*100:.2f}%\",\n",
    "            'Train F1': f\"{np.mean(train_f1)*100:.2f}%\",\n",
    "            'Train ROC AUC': f\"{np.mean(train_roc_auc):.3f}\",\n",
    "            'Train GINI': f\"{2*np.mean(train_roc_auc)-1:.3f}\",\n",
    "            'Val Recall': f\"{np.mean(val_recall)*100:.2f}%\",\n",
    "            'Val Precision': f\"{np.mean(val_precision)*100:.2f}%\",\n",
    "            'Val F1': f\"{np.mean(val_f1)*100:.2f}%\",\n",
    "            'Val ROC AUC': f\"{np.mean(val_roc_auc):.3f}\",\n",
    "            'Val GINI': f\"{2*np.mean(val_roc_auc)-1:.3f}\",\n",
    "            'Total Time': f\"{time.time() - model_start:.2f}s\"\n",
    "        }\n",
    "\n",
    "    return pd.DataFrame(results).T"
   ]
  },
  {
   "cell_type": "code",
   "execution_count": 60,
   "metadata": {},
   "outputs": [],
   "source": [
    "models_dict = {'LogisticRegressor': LogisticRegression(),\n",
    "               'GaussianNB': GaussianNB(),\n",
    "               'RandomForestClassifier': RandomForestClassifier(random_state=143),\n",
    "               'DecisionTreeClassifier': DecisionTreeClassifier(random_state=143),\n",
    "               'GradientBoostingClassifier': GradientBoostingClassifier(random_state=143)}"
   ]
  },
  {
   "cell_type": "code",
   "execution_count": 61,
   "metadata": {},
   "outputs": [
    {
     "data": {
      "application/vnd.jupyter.widget-view+json": {
       "model_id": "32974e812a104b4b8bc4e3ebe4ac2528",
       "version_major": 2,
       "version_minor": 0
      },
      "text/plain": [
       "  0%|          | 0/5 [00:00<?, ?it/s]"
      ]
     },
     "metadata": {},
     "output_type": "display_data"
    },
    {
     "data": {
      "application/vnd.jupyter.widget-view+json": {
       "model_id": "2527422e045f4df0bf75ba2c0c46b7a9",
       "version_major": 2,
       "version_minor": 0
      },
      "text/plain": [
       "0it [00:00, ?it/s]"
      ]
     },
     "metadata": {},
     "output_type": "display_data"
    },
    {
     "data": {
      "application/vnd.jupyter.widget-view+json": {
       "model_id": "36eddf781cc8429dafec73eb3fa5322c",
       "version_major": 2,
       "version_minor": 0
      },
      "text/plain": [
       "0it [00:00, ?it/s]"
      ]
     },
     "metadata": {},
     "output_type": "display_data"
    },
    {
     "data": {
      "application/vnd.jupyter.widget-view+json": {
       "model_id": "bdce5bf04719416bb3d4a7d4a9ea1280",
       "version_major": 2,
       "version_minor": 0
      },
      "text/plain": [
       "0it [00:00, ?it/s]"
      ]
     },
     "metadata": {},
     "output_type": "display_data"
    },
    {
     "data": {
      "application/vnd.jupyter.widget-view+json": {
       "model_id": "f94fe400aeee4d01b931d795f9ca13cc",
       "version_major": 2,
       "version_minor": 0
      },
      "text/plain": [
       "0it [00:00, ?it/s]"
      ]
     },
     "metadata": {},
     "output_type": "display_data"
    },
    {
     "data": {
      "application/vnd.jupyter.widget-view+json": {
       "model_id": "53e44b0e28bc41a0bc0059d329106b3b",
       "version_major": 2,
       "version_minor": 0
      },
      "text/plain": [
       "0it [00:00, ?it/s]"
      ]
     },
     "metadata": {},
     "output_type": "display_data"
    },
    {
     "data": {
      "text/html": [
       "<div>\n",
       "<style scoped>\n",
       "    .dataframe tbody tr th:only-of-type {\n",
       "        vertical-align: middle;\n",
       "    }\n",
       "\n",
       "    .dataframe tbody tr th {\n",
       "        vertical-align: top;\n",
       "    }\n",
       "\n",
       "    .dataframe thead th {\n",
       "        text-align: right;\n",
       "    }\n",
       "</style>\n",
       "<table border=\"1\" class=\"dataframe\">\n",
       "  <thead>\n",
       "    <tr style=\"text-align: right;\">\n",
       "      <th></th>\n",
       "      <th>Train Accuracy</th>\n",
       "      <th>Val Accuracy</th>\n",
       "      <th>Train Recall</th>\n",
       "      <th>Train Precision</th>\n",
       "      <th>Train F1</th>\n",
       "      <th>Train ROC AUC</th>\n",
       "      <th>Train GINI</th>\n",
       "      <th>Val Recall</th>\n",
       "      <th>Val Precision</th>\n",
       "      <th>Val F1</th>\n",
       "      <th>Val ROC AUC</th>\n",
       "      <th>Val GINI</th>\n",
       "      <th>Total Time</th>\n",
       "    </tr>\n",
       "  </thead>\n",
       "  <tbody>\n",
       "    <tr>\n",
       "      <th>LogisticRegressor</th>\n",
       "      <td>90.50%</td>\n",
       "      <td>90.48%</td>\n",
       "      <td>90.50%</td>\n",
       "      <td>88.99%</td>\n",
       "      <td>88.97%</td>\n",
       "      <td>0.895</td>\n",
       "      <td>0.790</td>\n",
       "      <td>90.48%</td>\n",
       "      <td>88.95%</td>\n",
       "      <td>88.93%</td>\n",
       "      <td>0.894</td>\n",
       "      <td>0.789</td>\n",
       "      <td>0.48s</td>\n",
       "    </tr>\n",
       "    <tr>\n",
       "      <th>GaussianNB</th>\n",
       "      <td>87.73%</td>\n",
       "      <td>87.73%</td>\n",
       "      <td>87.73%</td>\n",
       "      <td>86.62%</td>\n",
       "      <td>87.10%</td>\n",
       "      <td>0.847</td>\n",
       "      <td>0.694</td>\n",
       "      <td>87.73%</td>\n",
       "      <td>86.63%</td>\n",
       "      <td>87.10%</td>\n",
       "      <td>0.846</td>\n",
       "      <td>0.691</td>\n",
       "      <td>0.32s</td>\n",
       "    </tr>\n",
       "    <tr>\n",
       "      <th>RandomForestClassifier</th>\n",
       "      <td>91.54%</td>\n",
       "      <td>90.04%</td>\n",
       "      <td>91.54%</td>\n",
       "      <td>90.54%</td>\n",
       "      <td>90.27%</td>\n",
       "      <td>0.925</td>\n",
       "      <td>0.849</td>\n",
       "      <td>90.04%</td>\n",
       "      <td>88.31%</td>\n",
       "      <td>88.49%</td>\n",
       "      <td>0.893</td>\n",
       "      <td>0.786</td>\n",
       "      <td>5.10s</td>\n",
       "    </tr>\n",
       "    <tr>\n",
       "      <th>DecisionTreeClassifier</th>\n",
       "      <td>91.54%</td>\n",
       "      <td>90.02%</td>\n",
       "      <td>91.54%</td>\n",
       "      <td>90.65%</td>\n",
       "      <td>90.06%</td>\n",
       "      <td>0.926</td>\n",
       "      <td>0.851</td>\n",
       "      <td>90.02%</td>\n",
       "      <td>88.19%</td>\n",
       "      <td>88.22%</td>\n",
       "      <td>0.866</td>\n",
       "      <td>0.731</td>\n",
       "      <td>0.31s</td>\n",
       "    </tr>\n",
       "    <tr>\n",
       "      <th>GradientBoostingClassifier</th>\n",
       "      <td>90.88%</td>\n",
       "      <td>90.69%</td>\n",
       "      <td>90.88%</td>\n",
       "      <td>89.59%</td>\n",
       "      <td>89.62%</td>\n",
       "      <td>0.912</td>\n",
       "      <td>0.824</td>\n",
       "      <td>90.69%</td>\n",
       "      <td>89.32%</td>\n",
       "      <td>89.41%</td>\n",
       "      <td>0.907</td>\n",
       "      <td>0.813</td>\n",
       "      <td>3.92s</td>\n",
       "    </tr>\n",
       "  </tbody>\n",
       "</table>\n",
       "</div>"
      ],
      "text/plain": [
       "                           Train Accuracy Val Accuracy Train Recall  \\\n",
       "LogisticRegressor                  90.50%       90.48%       90.50%   \n",
       "GaussianNB                         87.73%       87.73%       87.73%   \n",
       "RandomForestClassifier             91.54%       90.04%       91.54%   \n",
       "DecisionTreeClassifier             91.54%       90.02%       91.54%   \n",
       "GradientBoostingClassifier         90.88%       90.69%       90.88%   \n",
       "\n",
       "                           Train Precision Train F1 Train ROC AUC Train GINI  \\\n",
       "LogisticRegressor                   88.99%   88.97%         0.895      0.790   \n",
       "GaussianNB                          86.62%   87.10%         0.847      0.694   \n",
       "RandomForestClassifier              90.54%   90.27%         0.925      0.849   \n",
       "DecisionTreeClassifier              90.65%   90.06%         0.926      0.851   \n",
       "GradientBoostingClassifier          89.59%   89.62%         0.912      0.824   \n",
       "\n",
       "                           Val Recall Val Precision  Val F1 Val ROC AUC  \\\n",
       "LogisticRegressor              90.48%        88.95%  88.93%       0.894   \n",
       "GaussianNB                     87.73%        86.63%  87.10%       0.846   \n",
       "RandomForestClassifier         90.04%        88.31%  88.49%       0.893   \n",
       "DecisionTreeClassifier         90.02%        88.19%  88.22%       0.866   \n",
       "GradientBoostingClassifier     90.69%        89.32%  89.41%       0.907   \n",
       "\n",
       "                           Val GINI Total Time  \n",
       "LogisticRegressor             0.789      0.48s  \n",
       "GaussianNB                    0.691      0.32s  \n",
       "RandomForestClassifier        0.786      5.10s  \n",
       "DecisionTreeClassifier        0.731      0.31s  \n",
       "GradientBoostingClassifier    0.813      3.92s  "
      ]
     },
     "metadata": {},
     "output_type": "display_data"
    }
   ],
   "source": [
    "auto_run = auto_ml(X_trainval, y_trainval, models_dict,\n",
    "                   cv=StratifiedKFold(n_splits=5))\n",
    "# Display the results\n",
    "display(auto_run)"
   ]
  },
  {
   "cell_type": "code",
   "execution_count": 62,
   "metadata": {},
   "outputs": [
    {
     "data": {
      "application/vnd.jupyter.widget-view+json": {
       "model_id": "e061f548c750485fba4083eaff4fff80",
       "version_major": 2,
       "version_minor": 0
      },
      "text/plain": [
       "  0%|          | 0/5 [00:00<?, ?it/s]"
      ]
     },
     "metadata": {},
     "output_type": "display_data"
    },
    {
     "data": {
      "application/vnd.jupyter.widget-view+json": {
       "model_id": "9963883260e84fa193269646b2e3f786",
       "version_major": 2,
       "version_minor": 0
      },
      "text/plain": [
       "0it [00:00, ?it/s]"
      ]
     },
     "metadata": {},
     "output_type": "display_data"
    },
    {
     "data": {
      "application/vnd.jupyter.widget-view+json": {
       "model_id": "a79f266def8946daa8a01c3dfe28ffad",
       "version_major": 2,
       "version_minor": 0
      },
      "text/plain": [
       "0it [00:00, ?it/s]"
      ]
     },
     "metadata": {},
     "output_type": "display_data"
    },
    {
     "data": {
      "application/vnd.jupyter.widget-view+json": {
       "model_id": "f0e5b86ffd3447b2af784d215c3ecf3f",
       "version_major": 2,
       "version_minor": 0
      },
      "text/plain": [
       "0it [00:00, ?it/s]"
      ]
     },
     "metadata": {},
     "output_type": "display_data"
    },
    {
     "data": {
      "application/vnd.jupyter.widget-view+json": {
       "model_id": "0d34aa99dc3f4b09bdd91cfe9d00511c",
       "version_major": 2,
       "version_minor": 0
      },
      "text/plain": [
       "0it [00:00, ?it/s]"
      ]
     },
     "metadata": {},
     "output_type": "display_data"
    },
    {
     "data": {
      "application/vnd.jupyter.widget-view+json": {
       "model_id": "89e6b4d37b4a41ffad327277c7348ac3",
       "version_major": 2,
       "version_minor": 0
      },
      "text/plain": [
       "0it [00:00, ?it/s]"
      ]
     },
     "metadata": {},
     "output_type": "display_data"
    },
    {
     "data": {
      "text/html": [
       "<div>\n",
       "<style scoped>\n",
       "    .dataframe tbody tr th:only-of-type {\n",
       "        vertical-align: middle;\n",
       "    }\n",
       "\n",
       "    .dataframe tbody tr th {\n",
       "        vertical-align: top;\n",
       "    }\n",
       "\n",
       "    .dataframe thead th {\n",
       "        text-align: right;\n",
       "    }\n",
       "</style>\n",
       "<table border=\"1\" class=\"dataframe\">\n",
       "  <thead>\n",
       "    <tr style=\"text-align: right;\">\n",
       "      <th></th>\n",
       "      <th>Train Accuracy</th>\n",
       "      <th>Val Accuracy</th>\n",
       "      <th>Train Recall</th>\n",
       "      <th>Train Precision</th>\n",
       "      <th>Train F1</th>\n",
       "      <th>Train ROC AUC</th>\n",
       "      <th>Train GINI</th>\n",
       "      <th>Val Recall</th>\n",
       "      <th>Val Precision</th>\n",
       "      <th>Val F1</th>\n",
       "      <th>Val ROC AUC</th>\n",
       "      <th>Val GINI</th>\n",
       "      <th>Total Time</th>\n",
       "    </tr>\n",
       "  </thead>\n",
       "  <tbody>\n",
       "    <tr>\n",
       "      <th>LogisticRegressor</th>\n",
       "      <td>91.11%</td>\n",
       "      <td>91.01%</td>\n",
       "      <td>91.11%</td>\n",
       "      <td>90.03%</td>\n",
       "      <td>90.24%</td>\n",
       "      <td>0.935</td>\n",
       "      <td>0.870</td>\n",
       "      <td>91.01%</td>\n",
       "      <td>89.90%</td>\n",
       "      <td>90.12%</td>\n",
       "      <td>0.933</td>\n",
       "      <td>0.867</td>\n",
       "      <td>1.01s</td>\n",
       "    </tr>\n",
       "    <tr>\n",
       "      <th>GaussianNB</th>\n",
       "      <td>87.32%</td>\n",
       "      <td>87.26%</td>\n",
       "      <td>87.32%</td>\n",
       "      <td>87.73%</td>\n",
       "      <td>87.51%</td>\n",
       "      <td>0.839</td>\n",
       "      <td>0.678</td>\n",
       "      <td>87.26%</td>\n",
       "      <td>87.67%</td>\n",
       "      <td>87.46%</td>\n",
       "      <td>0.837</td>\n",
       "      <td>0.674</td>\n",
       "      <td>0.92s</td>\n",
       "    </tr>\n",
       "    <tr>\n",
       "      <th>RandomForestClassifier</th>\n",
       "      <td>100.00%</td>\n",
       "      <td>91.15%</td>\n",
       "      <td>100.00%</td>\n",
       "      <td>100.00%</td>\n",
       "      <td>100.00%</td>\n",
       "      <td>1.000</td>\n",
       "      <td>1.000</td>\n",
       "      <td>91.15%</td>\n",
       "      <td>90.22%</td>\n",
       "      <td>90.48%</td>\n",
       "      <td>0.938</td>\n",
       "      <td>0.875</td>\n",
       "      <td>9.73s</td>\n",
       "    </tr>\n",
       "    <tr>\n",
       "      <th>DecisionTreeClassifier</th>\n",
       "      <td>100.00%</td>\n",
       "      <td>89.07%</td>\n",
       "      <td>100.00%</td>\n",
       "      <td>100.00%</td>\n",
       "      <td>100.00%</td>\n",
       "      <td>1.000</td>\n",
       "      <td>1.000</td>\n",
       "      <td>89.07%</td>\n",
       "      <td>89.23%</td>\n",
       "      <td>89.15%</td>\n",
       "      <td>0.733</td>\n",
       "      <td>0.466</td>\n",
       "      <td>0.68s</td>\n",
       "    </tr>\n",
       "    <tr>\n",
       "      <th>GradientBoostingClassifier</th>\n",
       "      <td>92.34%</td>\n",
       "      <td>91.42%</td>\n",
       "      <td>92.34%</td>\n",
       "      <td>91.77%</td>\n",
       "      <td>91.94%</td>\n",
       "      <td>0.952</td>\n",
       "      <td>0.905</td>\n",
       "      <td>91.42%</td>\n",
       "      <td>90.73%</td>\n",
       "      <td>90.97%</td>\n",
       "      <td>0.945</td>\n",
       "      <td>0.889</td>\n",
       "      <td>11.64s</td>\n",
       "    </tr>\n",
       "  </tbody>\n",
       "</table>\n",
       "</div>"
      ],
      "text/plain": [
       "                           Train Accuracy Val Accuracy Train Recall  \\\n",
       "LogisticRegressor                  91.11%       91.01%       91.11%   \n",
       "GaussianNB                         87.32%       87.26%       87.32%   \n",
       "RandomForestClassifier            100.00%       91.15%      100.00%   \n",
       "DecisionTreeClassifier            100.00%       89.07%      100.00%   \n",
       "GradientBoostingClassifier         92.34%       91.42%       92.34%   \n",
       "\n",
       "                           Train Precision Train F1 Train ROC AUC Train GINI  \\\n",
       "LogisticRegressor                   90.03%   90.24%         0.935      0.870   \n",
       "GaussianNB                          87.73%   87.51%         0.839      0.678   \n",
       "RandomForestClassifier             100.00%  100.00%         1.000      1.000   \n",
       "DecisionTreeClassifier             100.00%  100.00%         1.000      1.000   \n",
       "GradientBoostingClassifier          91.77%   91.94%         0.952      0.905   \n",
       "\n",
       "                           Val Recall Val Precision  Val F1 Val ROC AUC  \\\n",
       "LogisticRegressor              91.01%        89.90%  90.12%       0.933   \n",
       "GaussianNB                     87.26%        87.67%  87.46%       0.837   \n",
       "RandomForestClassifier         91.15%        90.22%  90.48%       0.938   \n",
       "DecisionTreeClassifier         89.07%        89.23%  89.15%       0.733   \n",
       "GradientBoostingClassifier     91.42%        90.73%  90.97%       0.945   \n",
       "\n",
       "                           Val GINI Total Time  \n",
       "LogisticRegressor             0.867      1.01s  \n",
       "GaussianNB                    0.674      0.92s  \n",
       "RandomForestClassifier        0.875      9.73s  \n",
       "DecisionTreeClassifier        0.466      0.68s  \n",
       "GradientBoostingClassifier    0.889     11.64s  "
      ]
     },
     "metadata": {},
     "output_type": "display_data"
    }
   ],
   "source": [
    "# Run models on raw data\n",
    "raw_models_dict = {'LogisticRegressor': LogisticRegression(),\n",
    "                  'GaussianNB': GaussianNB(), \n",
    "                  'RandomForestClassifier': RandomForestClassifier(random_state=143),\n",
    "                  'DecisionTreeClassifier': DecisionTreeClassifier(random_state=143),\n",
    "                  'GradientBoostingClassifier': GradientBoostingClassifier(random_state=143)}\n",
    "\n",
    "raw_auto_run = auto_ml(X_trainval_raw, y_trainval_raw, raw_models_dict,\n",
    "                      cv=StratifiedKFold(n_splits=5))\n",
    "# Display results for raw data\n",
    "display(raw_auto_run)\n"
   ]
  },
  {
   "cell_type": "markdown",
   "metadata": {},
   "source": [
    "# Critical Issues with Raw Data\n",
    "\n",
    "Note: Raw data was only standardized and one-hot encoded, without any binning, correlation analysis, or removal of low-predictive power features.\n",
    "\n",
    "## Severe Overfitting in Tree-Based Models\n",
    "\n",
    "### RandomForestClassifier\n",
    "- Clean Data: Train/Val accuracy gap of 1.5% (91.54% vs 90.04%)\n",
    "- Raw Data: Train/Val accuracy gap of 8.85% (100% vs 91.15%) ⚠️\n",
    "\n",
    "### DecisionTreeClassifier  \n",
    "- Clean Data: Train/Val accuracy gap of 1.52% (91.54% vs 90.02%)\n",
    "- Raw Data: Train/Val accuracy gap of 10.93% (100% vs 89.07%) ⚠️\n",
    "\n",
    "The perfect 100% training accuracy is a clear indicator of severe overfitting on raw data.\n",
    "\n",
    "## Computational Cost Impact\n",
    "\n",
    "Raw data processing resulted in significantly longer execution times:\n",
    "\n",
    "- GradientBoostingClassifier: 3.92s → 11.64s (3x slower)\n",
    "- RandomForestClassifier: 5.10s → 9.73s (2x slower)\n",
    "\n",
    "These increased computational costs would be magnified when:\n",
    "- Working with larger datasets\n",
    "- Performing hyperparameter tuning\n",
    "- Running cross-validation\n",
    "- Deploying models in production"
   ]
  },
  {
   "cell_type": "markdown",
   "metadata": {},
   "source": [
    "# Resampling Techniques"
   ]
  },
  {
   "cell_type": "markdown",
   "metadata": {},
   "source": [
    "## Oversampling\n"
   ]
  },
  {
   "cell_type": "code",
   "execution_count": 70,
   "metadata": {},
   "outputs": [
    {
     "name": "stdout",
     "output_type": "stream",
     "text": [
      "---------------------------------------------------\u001b[1m\u001b[31mSMOTE\u001b[0m---------------------------------------------------\n"
     ]
    },
    {
     "data": {
      "application/vnd.jupyter.widget-view+json": {
       "model_id": "8bbd36bfa23946dcbcac5bf67ce1f3dd",
       "version_major": 2,
       "version_minor": 0
      },
      "text/plain": [
       "  0%|          | 0/5 [00:00<?, ?it/s]"
      ]
     },
     "metadata": {},
     "output_type": "display_data"
    },
    {
     "data": {
      "application/vnd.jupyter.widget-view+json": {
       "model_id": "4482b7afc6f44ba5afb869ab6a572fb5",
       "version_major": 2,
       "version_minor": 0
      },
      "text/plain": [
       "0it [00:00, ?it/s]"
      ]
     },
     "metadata": {},
     "output_type": "display_data"
    },
    {
     "data": {
      "application/vnd.jupyter.widget-view+json": {
       "model_id": "2577caa0a6304694a3d6576dcdedf545",
       "version_major": 2,
       "version_minor": 0
      },
      "text/plain": [
       "0it [00:00, ?it/s]"
      ]
     },
     "metadata": {},
     "output_type": "display_data"
    },
    {
     "data": {
      "application/vnd.jupyter.widget-view+json": {
       "model_id": "2d57d6b9e14640b292f85b4221da88d8",
       "version_major": 2,
       "version_minor": 0
      },
      "text/plain": [
       "0it [00:00, ?it/s]"
      ]
     },
     "metadata": {},
     "output_type": "display_data"
    },
    {
     "data": {
      "application/vnd.jupyter.widget-view+json": {
       "model_id": "882afb46a2054c0bb7c53ed9d94106d7",
       "version_major": 2,
       "version_minor": 0
      },
      "text/plain": [
       "0it [00:00, ?it/s]"
      ]
     },
     "metadata": {},
     "output_type": "display_data"
    },
    {
     "data": {
      "application/vnd.jupyter.widget-view+json": {
       "model_id": "39b807b053774b278ecf7c8715b41f4b",
       "version_major": 2,
       "version_minor": 0
      },
      "text/plain": [
       "0it [00:00, ?it/s]"
      ]
     },
     "metadata": {},
     "output_type": "display_data"
    },
    {
     "data": {
      "text/html": [
       "<div>\n",
       "<style scoped>\n",
       "    .dataframe tbody tr th:only-of-type {\n",
       "        vertical-align: middle;\n",
       "    }\n",
       "\n",
       "    .dataframe tbody tr th {\n",
       "        vertical-align: top;\n",
       "    }\n",
       "\n",
       "    .dataframe thead th {\n",
       "        text-align: right;\n",
       "    }\n",
       "</style>\n",
       "<table border=\"1\" class=\"dataframe\">\n",
       "  <thead>\n",
       "    <tr style=\"text-align: right;\">\n",
       "      <th></th>\n",
       "      <th>Train Accuracy</th>\n",
       "      <th>Val Accuracy</th>\n",
       "      <th>Train Recall</th>\n",
       "      <th>Train Precision</th>\n",
       "      <th>Train F1</th>\n",
       "      <th>Train ROC AUC</th>\n",
       "      <th>Train GINI</th>\n",
       "      <th>Val Recall</th>\n",
       "      <th>Val Precision</th>\n",
       "      <th>Val F1</th>\n",
       "      <th>Val ROC AUC</th>\n",
       "      <th>Val GINI</th>\n",
       "      <th>Total Time</th>\n",
       "    </tr>\n",
       "  </thead>\n",
       "  <tbody>\n",
       "    <tr>\n",
       "      <th>LogisticRegressor</th>\n",
       "      <td>81.31%</td>\n",
       "      <td>78.47%</td>\n",
       "      <td>81.31%</td>\n",
       "      <td>81.50%</td>\n",
       "      <td>81.29%</td>\n",
       "      <td>0.894</td>\n",
       "      <td>0.787</td>\n",
       "      <td>78.47%</td>\n",
       "      <td>90.33%</td>\n",
       "      <td>82.05%</td>\n",
       "      <td>0.894</td>\n",
       "      <td>0.788</td>\n",
       "      <td>1.25s</td>\n",
       "    </tr>\n",
       "    <tr>\n",
       "      <th>GaussianNB</th>\n",
       "      <td>67.60%</td>\n",
       "      <td>87.01%</td>\n",
       "      <td>67.60%</td>\n",
       "      <td>73.51%</td>\n",
       "      <td>65.42%</td>\n",
       "      <td>0.841</td>\n",
       "      <td>0.682</td>\n",
       "      <td>87.01%</td>\n",
       "      <td>87.04%</td>\n",
       "      <td>87.02%</td>\n",
       "      <td>0.840</td>\n",
       "      <td>0.680</td>\n",
       "      <td>0.72s</td>\n",
       "    </tr>\n",
       "    <tr>\n",
       "      <th>RandomForestClassifier</th>\n",
       "      <td>85.17%</td>\n",
       "      <td>76.40%</td>\n",
       "      <td>85.17%</td>\n",
       "      <td>86.49%</td>\n",
       "      <td>85.04%</td>\n",
       "      <td>0.927</td>\n",
       "      <td>0.854</td>\n",
       "      <td>76.40%</td>\n",
       "      <td>90.12%</td>\n",
       "      <td>80.48%</td>\n",
       "      <td>0.883</td>\n",
       "      <td>0.766</td>\n",
       "      <td>8.87s</td>\n",
       "    </tr>\n",
       "    <tr>\n",
       "      <th>DecisionTreeClassifier</th>\n",
       "      <td>85.08%</td>\n",
       "      <td>75.90%</td>\n",
       "      <td>85.08%</td>\n",
       "      <td>86.48%</td>\n",
       "      <td>84.93%</td>\n",
       "      <td>0.927</td>\n",
       "      <td>0.853</td>\n",
       "      <td>75.90%</td>\n",
       "      <td>89.96%</td>\n",
       "      <td>80.09%</td>\n",
       "      <td>0.860</td>\n",
       "      <td>0.720</td>\n",
       "      <td>0.68s</td>\n",
       "    </tr>\n",
       "    <tr>\n",
       "      <th>GradientBoostingClassifier</th>\n",
       "      <td>83.96%</td>\n",
       "      <td>75.12%</td>\n",
       "      <td>83.96%</td>\n",
       "      <td>85.80%</td>\n",
       "      <td>83.75%</td>\n",
       "      <td>0.912</td>\n",
       "      <td>0.824</td>\n",
       "      <td>75.12%</td>\n",
       "      <td>91.27%</td>\n",
       "      <td>79.58%</td>\n",
       "      <td>0.907</td>\n",
       "      <td>0.814</td>\n",
       "      <td>7.85s</td>\n",
       "    </tr>\n",
       "  </tbody>\n",
       "</table>\n",
       "</div>"
      ],
      "text/plain": [
       "                           Train Accuracy Val Accuracy Train Recall  \\\n",
       "LogisticRegressor                  81.31%       78.47%       81.31%   \n",
       "GaussianNB                         67.60%       87.01%       67.60%   \n",
       "RandomForestClassifier             85.17%       76.40%       85.17%   \n",
       "DecisionTreeClassifier             85.08%       75.90%       85.08%   \n",
       "GradientBoostingClassifier         83.96%       75.12%       83.96%   \n",
       "\n",
       "                           Train Precision Train F1 Train ROC AUC Train GINI  \\\n",
       "LogisticRegressor                   81.50%   81.29%         0.894      0.787   \n",
       "GaussianNB                          73.51%   65.42%         0.841      0.682   \n",
       "RandomForestClassifier              86.49%   85.04%         0.927      0.854   \n",
       "DecisionTreeClassifier              86.48%   84.93%         0.927      0.853   \n",
       "GradientBoostingClassifier          85.80%   83.75%         0.912      0.824   \n",
       "\n",
       "                           Val Recall Val Precision  Val F1 Val ROC AUC  \\\n",
       "LogisticRegressor              78.47%        90.33%  82.05%       0.894   \n",
       "GaussianNB                     87.01%        87.04%  87.02%       0.840   \n",
       "RandomForestClassifier         76.40%        90.12%  80.48%       0.883   \n",
       "DecisionTreeClassifier         75.90%        89.96%  80.09%       0.860   \n",
       "GradientBoostingClassifier     75.12%        91.27%  79.58%       0.907   \n",
       "\n",
       "                           Val GINI Total Time  \n",
       "LogisticRegressor             0.788      1.25s  \n",
       "GaussianNB                    0.680      0.72s  \n",
       "RandomForestClassifier        0.766      8.87s  \n",
       "DecisionTreeClassifier        0.720      0.68s  \n",
       "GradientBoostingClassifier    0.814      7.85s  "
      ]
     },
     "metadata": {},
     "output_type": "display_data"
    },
    {
     "name": "stdout",
     "output_type": "stream",
     "text": [
      "--------------------------------------------------\u001b[1m\u001b[31mADASYN\u001b[0m---------------------------------------------------\n"
     ]
    },
    {
     "data": {
      "application/vnd.jupyter.widget-view+json": {
       "model_id": "2b02b22a0c2e429cb5c07edb519de83c",
       "version_major": 2,
       "version_minor": 0
      },
      "text/plain": [
       "  0%|          | 0/5 [00:00<?, ?it/s]"
      ]
     },
     "metadata": {},
     "output_type": "display_data"
    },
    {
     "data": {
      "application/vnd.jupyter.widget-view+json": {
       "model_id": "3acfc94cee294f6bb5e13eafcb9ead1f",
       "version_major": 2,
       "version_minor": 0
      },
      "text/plain": [
       "0it [00:00, ?it/s]"
      ]
     },
     "metadata": {},
     "output_type": "display_data"
    },
    {
     "data": {
      "application/vnd.jupyter.widget-view+json": {
       "model_id": "9a3f2c421cd740ef92d81525b93f0e80",
       "version_major": 2,
       "version_minor": 0
      },
      "text/plain": [
       "0it [00:00, ?it/s]"
      ]
     },
     "metadata": {},
     "output_type": "display_data"
    },
    {
     "data": {
      "application/vnd.jupyter.widget-view+json": {
       "model_id": "915efba77503468788739a0da165bab2",
       "version_major": 2,
       "version_minor": 0
      },
      "text/plain": [
       "0it [00:00, ?it/s]"
      ]
     },
     "metadata": {},
     "output_type": "display_data"
    },
    {
     "data": {
      "application/vnd.jupyter.widget-view+json": {
       "model_id": "8b3fc1356aaf4795add6bc49d0a874a4",
       "version_major": 2,
       "version_minor": 0
      },
      "text/plain": [
       "0it [00:00, ?it/s]"
      ]
     },
     "metadata": {},
     "output_type": "display_data"
    },
    {
     "data": {
      "application/vnd.jupyter.widget-view+json": {
       "model_id": "7f41ee449d4c40a7ab137e97c40cd83a",
       "version_major": 2,
       "version_minor": 0
      },
      "text/plain": [
       "0it [00:00, ?it/s]"
      ]
     },
     "metadata": {},
     "output_type": "display_data"
    },
    {
     "data": {
      "text/html": [
       "<div>\n",
       "<style scoped>\n",
       "    .dataframe tbody tr th:only-of-type {\n",
       "        vertical-align: middle;\n",
       "    }\n",
       "\n",
       "    .dataframe tbody tr th {\n",
       "        vertical-align: top;\n",
       "    }\n",
       "\n",
       "    .dataframe thead th {\n",
       "        text-align: right;\n",
       "    }\n",
       "</style>\n",
       "<table border=\"1\" class=\"dataframe\">\n",
       "  <thead>\n",
       "    <tr style=\"text-align: right;\">\n",
       "      <th></th>\n",
       "      <th>Train Accuracy</th>\n",
       "      <th>Val Accuracy</th>\n",
       "      <th>Train Recall</th>\n",
       "      <th>Train Precision</th>\n",
       "      <th>Train F1</th>\n",
       "      <th>Train ROC AUC</th>\n",
       "      <th>Train GINI</th>\n",
       "      <th>Val Recall</th>\n",
       "      <th>Val Precision</th>\n",
       "      <th>Val F1</th>\n",
       "      <th>Val ROC AUC</th>\n",
       "      <th>Val GINI</th>\n",
       "      <th>Total Time</th>\n",
       "    </tr>\n",
       "  </thead>\n",
       "  <tbody>\n",
       "    <tr>\n",
       "      <th>LogisticRegressor</th>\n",
       "      <td>81.46%</td>\n",
       "      <td>74.73%</td>\n",
       "      <td>81.46%</td>\n",
       "      <td>82.47%</td>\n",
       "      <td>81.32%</td>\n",
       "      <td>0.868</td>\n",
       "      <td>0.735</td>\n",
       "      <td>74.73%</td>\n",
       "      <td>90.79%</td>\n",
       "      <td>79.26%</td>\n",
       "      <td>0.891</td>\n",
       "      <td>0.782</td>\n",
       "      <td>1.67s</td>\n",
       "    </tr>\n",
       "    <tr>\n",
       "      <th>GaussianNB</th>\n",
       "      <td>63.24%</td>\n",
       "      <td>86.55%</td>\n",
       "      <td>63.24%</td>\n",
       "      <td>69.68%</td>\n",
       "      <td>59.96%</td>\n",
       "      <td>0.820</td>\n",
       "      <td>0.640</td>\n",
       "      <td>86.55%</td>\n",
       "      <td>87.10%</td>\n",
       "      <td>86.81%</td>\n",
       "      <td>0.850</td>\n",
       "      <td>0.699</td>\n",
       "      <td>1.28s</td>\n",
       "    </tr>\n",
       "    <tr>\n",
       "      <th>RandomForestClassifier</th>\n",
       "      <td>84.12%</td>\n",
       "      <td>74.30%</td>\n",
       "      <td>84.12%</td>\n",
       "      <td>86.01%</td>\n",
       "      <td>83.90%</td>\n",
       "      <td>0.903</td>\n",
       "      <td>0.806</td>\n",
       "      <td>74.30%</td>\n",
       "      <td>90.48%</td>\n",
       "      <td>78.91%</td>\n",
       "      <td>0.873</td>\n",
       "      <td>0.746</td>\n",
       "      <td>8.50s</td>\n",
       "    </tr>\n",
       "    <tr>\n",
       "      <th>DecisionTreeClassifier</th>\n",
       "      <td>84.11%</td>\n",
       "      <td>74.15%</td>\n",
       "      <td>84.11%</td>\n",
       "      <td>85.99%</td>\n",
       "      <td>83.90%</td>\n",
       "      <td>0.903</td>\n",
       "      <td>0.806</td>\n",
       "      <td>74.15%</td>\n",
       "      <td>90.29%</td>\n",
       "      <td>78.78%</td>\n",
       "      <td>0.854</td>\n",
       "      <td>0.708</td>\n",
       "      <td>0.99s</td>\n",
       "    </tr>\n",
       "    <tr>\n",
       "      <th>GradientBoostingClassifier</th>\n",
       "      <td>83.02%</td>\n",
       "      <td>72.61%</td>\n",
       "      <td>83.02%</td>\n",
       "      <td>85.63%</td>\n",
       "      <td>82.71%</td>\n",
       "      <td>0.883</td>\n",
       "      <td>0.766</td>\n",
       "      <td>72.61%</td>\n",
       "      <td>91.58%</td>\n",
       "      <td>77.62%</td>\n",
       "      <td>0.903</td>\n",
       "      <td>0.806</td>\n",
       "      <td>6.93s</td>\n",
       "    </tr>\n",
       "  </tbody>\n",
       "</table>\n",
       "</div>"
      ],
      "text/plain": [
       "                           Train Accuracy Val Accuracy Train Recall  \\\n",
       "LogisticRegressor                  81.46%       74.73%       81.46%   \n",
       "GaussianNB                         63.24%       86.55%       63.24%   \n",
       "RandomForestClassifier             84.12%       74.30%       84.12%   \n",
       "DecisionTreeClassifier             84.11%       74.15%       84.11%   \n",
       "GradientBoostingClassifier         83.02%       72.61%       83.02%   \n",
       "\n",
       "                           Train Precision Train F1 Train ROC AUC Train GINI  \\\n",
       "LogisticRegressor                   82.47%   81.32%         0.868      0.735   \n",
       "GaussianNB                          69.68%   59.96%         0.820      0.640   \n",
       "RandomForestClassifier              86.01%   83.90%         0.903      0.806   \n",
       "DecisionTreeClassifier              85.99%   83.90%         0.903      0.806   \n",
       "GradientBoostingClassifier          85.63%   82.71%         0.883      0.766   \n",
       "\n",
       "                           Val Recall Val Precision  Val F1 Val ROC AUC  \\\n",
       "LogisticRegressor              74.73%        90.79%  79.26%       0.891   \n",
       "GaussianNB                     86.55%        87.10%  86.81%       0.850   \n",
       "RandomForestClassifier         74.30%        90.48%  78.91%       0.873   \n",
       "DecisionTreeClassifier         74.15%        90.29%  78.78%       0.854   \n",
       "GradientBoostingClassifier     72.61%        91.58%  77.62%       0.903   \n",
       "\n",
       "                           Val GINI Total Time  \n",
       "LogisticRegressor             0.782      1.67s  \n",
       "GaussianNB                    0.699      1.28s  \n",
       "RandomForestClassifier        0.746      8.50s  \n",
       "DecisionTreeClassifier        0.708      0.99s  \n",
       "GradientBoostingClassifier    0.806      6.93s  "
      ]
     },
     "metadata": {},
     "output_type": "display_data"
    }
   ],
   "source": [
    "res_list = [('SMOTE', SMOTE()),\n",
    "            ('ADASYN', ADASYN())]\n",
    "\n",
    "outputs = []\n",
    "for title, res in res_list:\n",
    "    print(colored(title, 'red', attrs=['bold']).center(120, \"-\"))\n",
    "    # Store the DataFrame returned by auto_ml\n",
    "    results_df = auto_ml(X_trainval, y_trainval, models_dict, \n",
    "                        cv=StratifiedKFold(n_splits=5), res_t=res)\n",
    "    outputs.append(results_df)  # Store the entire DataFrame\n",
    "    display(results_df)  # Display the results"
   ]
  },
  {
   "cell_type": "code",
   "execution_count": 71,
   "metadata": {},
   "outputs": [
    {
     "data": {
      "text/html": [
       "<div>\n",
       "<style scoped>\n",
       "    .dataframe tbody tr th:only-of-type {\n",
       "        vertical-align: middle;\n",
       "    }\n",
       "\n",
       "    .dataframe tbody tr th {\n",
       "        vertical-align: top;\n",
       "    }\n",
       "\n",
       "    .dataframe thead th {\n",
       "        text-align: right;\n",
       "    }\n",
       "</style>\n",
       "<table border=\"1\" class=\"dataframe\">\n",
       "  <thead>\n",
       "    <tr style=\"text-align: right;\">\n",
       "      <th></th>\n",
       "      <th>NoResampling Val Recall</th>\n",
       "      <th>SMOTE Val Recall</th>\n",
       "      <th>ADASYN Val Recall</th>\n",
       "    </tr>\n",
       "  </thead>\n",
       "  <tbody>\n",
       "    <tr>\n",
       "      <th>LogisticRegressor</th>\n",
       "      <td>90.48%</td>\n",
       "      <td>78.47%</td>\n",
       "      <td>74.73%</td>\n",
       "    </tr>\n",
       "    <tr>\n",
       "      <th>GaussianNB</th>\n",
       "      <td>87.73%</td>\n",
       "      <td>87.01%</td>\n",
       "      <td>86.55%</td>\n",
       "    </tr>\n",
       "    <tr>\n",
       "      <th>RandomForestClassifier</th>\n",
       "      <td>90.04%</td>\n",
       "      <td>76.40%</td>\n",
       "      <td>74.30%</td>\n",
       "    </tr>\n",
       "    <tr>\n",
       "      <th>DecisionTreeClassifier</th>\n",
       "      <td>90.02%</td>\n",
       "      <td>75.90%</td>\n",
       "      <td>74.15%</td>\n",
       "    </tr>\n",
       "    <tr>\n",
       "      <th>GradientBoostingClassifier</th>\n",
       "      <td>90.69%</td>\n",
       "      <td>75.12%</td>\n",
       "      <td>72.61%</td>\n",
       "    </tr>\n",
       "  </tbody>\n",
       "</table>\n",
       "</div>"
      ],
      "text/plain": [
       "                           NoResampling Val Recall SMOTE Val Recall  \\\n",
       "LogisticRegressor                           90.48%           78.47%   \n",
       "GaussianNB                                  87.73%           87.01%   \n",
       "RandomForestClassifier                      90.04%           76.40%   \n",
       "DecisionTreeClassifier                      90.02%           75.90%   \n",
       "GradientBoostingClassifier                  90.69%           75.12%   \n",
       "\n",
       "                           ADASYN Val Recall  \n",
       "LogisticRegressor                     74.73%  \n",
       "GaussianNB                            86.55%  \n",
       "RandomForestClassifier                74.30%  \n",
       "DecisionTreeClassifier                74.15%  \n",
       "GradientBoostingClassifier            72.61%  "
      ]
     },
     "execution_count": 71,
     "metadata": {},
     "output_type": "execute_result"
    }
   ],
   "source": [
    "ps_over = pd.DataFrame(index=models_dict.keys())\n",
    "ps_over['NoResampling Val Recall'] = auto_run['Val Recall'] \n",
    "ps_over['SMOTE Val Recall'] = outputs[0]['Val Recall']\n",
    "ps_over['ADASYN Val Recall'] = outputs[1]['Val Recall']\n",
    "ps_over"
   ]
  },
  {
   "cell_type": "code",
   "execution_count": 72,
   "metadata": {},
   "outputs": [
    {
     "data": {
      "image/png": "[encoded data removed]",
      "text/plain": [
       "<Figure size 2000x800 with 1 Axes>"
      ]
     },
     "metadata": {},
     "output_type": "display_data"
    }
   ],
   "source": [
    "fig, ax = plt.subplots(figsize=(20, 8))\n",
    "# Convert percentage strings to floats\n",
    "for col in ps_over.columns:\n",
    "    ps_over[col] = ps_over[col].str.rstrip('%').astype(float)\n",
    "ps_over.plot.bar(ax=ax)\n",
    "ax.set_ylabel('Recall Score (%)', fontsize=12)\n",
    "for spine in ['right', 'top']:\n",
    "        ax.spines[spine].set_visible(False)\n",
    "ax.legend(edgecolor='white')\n",
    "fig.suptitle(\"Resampling Techniques-Oversampling\", size=15, y=0.9, weight='bold')\n",
    "plt.xticks(rotation=45, fontsize=12)\n",
    "plt.show()"
   ]
  },
  {
   "cell_type": "markdown",
   "metadata": {},
   "source": [
    "Based on the results above, we can observe that oversampling techniques (SMOTE and ADASYN) did not improve our model's performance. In fact, they led to a decrease in recall scores across all models compared to no resampling.\n",
    "\n",
    "We attempted oversampling because our target variable (Response) was imbalanced between classes 0 and 1, which can cause models to be biased towards the majority class. Oversampling techniques like SMOTE and ADASYN try to address this by creating synthetic samples of the minority class.\n",
    "\n",
    "However, in this case, the original imbalance may not have been severe enough to warrant oversampling, or the synthetic samples may have introduced noise that made it harder for the models to learn the true patterns in the data. The base models were able to handle the moderate imbalance well without requiring oversampling techniques.\n"
   ]
  },
  {
   "cell_type": "markdown",
   "metadata": {},
   "source": [
    "## Undersampling\n"
   ]
  },
  {
   "cell_type": "code",
   "execution_count": 73,
   "metadata": {},
   "outputs": [
    {
     "name": "stdout",
     "output_type": "stream",
     "text": [
      "------------------------------------------------\u001b[1m\u001b[31mTomekLinks\u001b[0m-------------------------------------------------\n"
     ]
    },
    {
     "data": {
      "application/vnd.jupyter.widget-view+json": {
       "model_id": "7feea9f6bcd046df8e16f01b01b07dd3",
       "version_major": 2,
       "version_minor": 0
      },
      "text/plain": [
       "  0%|          | 0/5 [00:00<?, ?it/s]"
      ]
     },
     "metadata": {},
     "output_type": "display_data"
    },
    {
     "data": {
      "application/vnd.jupyter.widget-view+json": {
       "model_id": "090c9aebfa394498ad995b799ebcbc44",
       "version_major": 2,
       "version_minor": 0
      },
      "text/plain": [
       "0it [00:00, ?it/s]"
      ]
     },
     "metadata": {},
     "output_type": "display_data"
    },
    {
     "data": {
      "application/vnd.jupyter.widget-view+json": {
       "model_id": "ff569dea77a64057a7bd4058011c9b82",
       "version_major": 2,
       "version_minor": 0
      },
      "text/plain": [
       "0it [00:00, ?it/s]"
      ]
     },
     "metadata": {},
     "output_type": "display_data"
    },
    {
     "data": {
      "application/vnd.jupyter.widget-view+json": {
       "model_id": "84cd3fc0d3504673b0adfc7973bea23f",
       "version_major": 2,
       "version_minor": 0
      },
      "text/plain": [
       "0it [00:00, ?it/s]"
      ]
     },
     "metadata": {},
     "output_type": "display_data"
    },
    {
     "data": {
      "application/vnd.jupyter.widget-view+json": {
       "model_id": "d6fbcb19d4c743afbccac1e7f477d35f",
       "version_major": 2,
       "version_minor": 0
      },
      "text/plain": [
       "0it [00:00, ?it/s]"
      ]
     },
     "metadata": {},
     "output_type": "display_data"
    },
    {
     "data": {
      "application/vnd.jupyter.widget-view+json": {
       "model_id": "e37209247070482c88f2353d1d92772d",
       "version_major": 2,
       "version_minor": 0
      },
      "text/plain": [
       "0it [00:00, ?it/s]"
      ]
     },
     "metadata": {},
     "output_type": "display_data"
    },
    {
     "data": {
      "text/html": [
       "<div>\n",
       "<style scoped>\n",
       "    .dataframe tbody tr th:only-of-type {\n",
       "        vertical-align: middle;\n",
       "    }\n",
       "\n",
       "    .dataframe tbody tr th {\n",
       "        vertical-align: top;\n",
       "    }\n",
       "\n",
       "    .dataframe thead th {\n",
       "        text-align: right;\n",
       "    }\n",
       "</style>\n",
       "<table border=\"1\" class=\"dataframe\">\n",
       "  <thead>\n",
       "    <tr style=\"text-align: right;\">\n",
       "      <th></th>\n",
       "      <th>Train Accuracy</th>\n",
       "      <th>Val Accuracy</th>\n",
       "      <th>Train Recall</th>\n",
       "      <th>Train Precision</th>\n",
       "      <th>Train F1</th>\n",
       "      <th>Train ROC AUC</th>\n",
       "      <th>Train GINI</th>\n",
       "      <th>Val Recall</th>\n",
       "      <th>Val Precision</th>\n",
       "      <th>Val F1</th>\n",
       "      <th>Val ROC AUC</th>\n",
       "      <th>Val GINI</th>\n",
       "      <th>Total Time</th>\n",
       "    </tr>\n",
       "  </thead>\n",
       "  <tbody>\n",
       "    <tr>\n",
       "      <th>LogisticRegressor</th>\n",
       "      <td>90.50%</td>\n",
       "      <td>90.48%</td>\n",
       "      <td>90.50%</td>\n",
       "      <td>88.99%</td>\n",
       "      <td>88.96%</td>\n",
       "      <td>0.895</td>\n",
       "      <td>0.790</td>\n",
       "      <td>90.48%</td>\n",
       "      <td>88.95%</td>\n",
       "      <td>88.93%</td>\n",
       "      <td>0.894</td>\n",
       "      <td>0.789</td>\n",
       "      <td>2.01s</td>\n",
       "    </tr>\n",
       "    <tr>\n",
       "      <th>GaussianNB</th>\n",
       "      <td>87.74%</td>\n",
       "      <td>87.73%</td>\n",
       "      <td>87.74%</td>\n",
       "      <td>86.63%</td>\n",
       "      <td>87.11%</td>\n",
       "      <td>0.847</td>\n",
       "      <td>0.694</td>\n",
       "      <td>87.73%</td>\n",
       "      <td>86.63%</td>\n",
       "      <td>87.10%</td>\n",
       "      <td>0.846</td>\n",
       "      <td>0.691</td>\n",
       "      <td>3.65s</td>\n",
       "    </tr>\n",
       "    <tr>\n",
       "      <th>RandomForestClassifier</th>\n",
       "      <td>91.54%</td>\n",
       "      <td>90.11%</td>\n",
       "      <td>91.54%</td>\n",
       "      <td>90.54%</td>\n",
       "      <td>90.27%</td>\n",
       "      <td>0.925</td>\n",
       "      <td>0.849</td>\n",
       "      <td>90.11%</td>\n",
       "      <td>88.42%</td>\n",
       "      <td>88.60%</td>\n",
       "      <td>0.893</td>\n",
       "      <td>0.786</td>\n",
       "      <td>9.82s</td>\n",
       "    </tr>\n",
       "    <tr>\n",
       "      <th>DecisionTreeClassifier</th>\n",
       "      <td>91.54%</td>\n",
       "      <td>90.02%</td>\n",
       "      <td>91.54%</td>\n",
       "      <td>90.65%</td>\n",
       "      <td>90.06%</td>\n",
       "      <td>0.926</td>\n",
       "      <td>0.851</td>\n",
       "      <td>90.02%</td>\n",
       "      <td>88.20%</td>\n",
       "      <td>88.23%</td>\n",
       "      <td>0.866</td>\n",
       "      <td>0.733</td>\n",
       "      <td>3.61s</td>\n",
       "    </tr>\n",
       "    <tr>\n",
       "      <th>GradientBoostingClassifier</th>\n",
       "      <td>90.90%</td>\n",
       "      <td>90.69%</td>\n",
       "      <td>90.90%</td>\n",
       "      <td>89.61%</td>\n",
       "      <td>89.64%</td>\n",
       "      <td>0.912</td>\n",
       "      <td>0.824</td>\n",
       "      <td>90.69%</td>\n",
       "      <td>89.32%</td>\n",
       "      <td>89.41%</td>\n",
       "      <td>0.907</td>\n",
       "      <td>0.813</td>\n",
       "      <td>9.32s</td>\n",
       "    </tr>\n",
       "  </tbody>\n",
       "</table>\n",
       "</div>"
      ],
      "text/plain": [
       "                           Train Accuracy Val Accuracy Train Recall  \\\n",
       "LogisticRegressor                  90.50%       90.48%       90.50%   \n",
       "GaussianNB                         87.74%       87.73%       87.74%   \n",
       "RandomForestClassifier             91.54%       90.11%       91.54%   \n",
       "DecisionTreeClassifier             91.54%       90.02%       91.54%   \n",
       "GradientBoostingClassifier         90.90%       90.69%       90.90%   \n",
       "\n",
       "                           Train Precision Train F1 Train ROC AUC Train GINI  \\\n",
       "LogisticRegressor                   88.99%   88.96%         0.895      0.790   \n",
       "GaussianNB                          86.63%   87.11%         0.847      0.694   \n",
       "RandomForestClassifier              90.54%   90.27%         0.925      0.849   \n",
       "DecisionTreeClassifier              90.65%   90.06%         0.926      0.851   \n",
       "GradientBoostingClassifier          89.61%   89.64%         0.912      0.824   \n",
       "\n",
       "                           Val Recall Val Precision  Val F1 Val ROC AUC  \\\n",
       "LogisticRegressor              90.48%        88.95%  88.93%       0.894   \n",
       "GaussianNB                     87.73%        86.63%  87.10%       0.846   \n",
       "RandomForestClassifier         90.11%        88.42%  88.60%       0.893   \n",
       "DecisionTreeClassifier         90.02%        88.20%  88.23%       0.866   \n",
       "GradientBoostingClassifier     90.69%        89.32%  89.41%       0.907   \n",
       "\n",
       "                           Val GINI Total Time  \n",
       "LogisticRegressor             0.789      2.01s  \n",
       "GaussianNB                    0.691      3.65s  \n",
       "RandomForestClassifier        0.786      9.82s  \n",
       "DecisionTreeClassifier        0.733      3.61s  \n",
       "GradientBoostingClassifier    0.813      9.32s  "
      ]
     },
     "metadata": {},
     "output_type": "display_data"
    },
    {
     "name": "stdout",
     "output_type": "stream",
     "text": [
      "-------------------------------------------------\u001b[1m\u001b[31mNearMiss\u001b[0m--------------------------------------------------\n"
     ]
    },
    {
     "data": {
      "application/vnd.jupyter.widget-view+json": {
       "model_id": "988ccfb5d9d84812baaa0c10f3edec59",
       "version_major": 2,
       "version_minor": 0
      },
      "text/plain": [
       "  0%|          | 0/5 [00:00<?, ?it/s]"
      ]
     },
     "metadata": {},
     "output_type": "display_data"
    },
    {
     "data": {
      "application/vnd.jupyter.widget-view+json": {
       "model_id": "601c48a1c649400991178fb411fc9ee5",
       "version_major": 2,
       "version_minor": 0
      },
      "text/plain": [
       "0it [00:00, ?it/s]"
      ]
     },
     "metadata": {},
     "output_type": "display_data"
    },
    {
     "data": {
      "application/vnd.jupyter.widget-view+json": {
       "model_id": "57f2adf34a0b490daaf9ebdda2a60e4d",
       "version_major": 2,
       "version_minor": 0
      },
      "text/plain": [
       "0it [00:00, ?it/s]"
      ]
     },
     "metadata": {},
     "output_type": "display_data"
    },
    {
     "data": {
      "application/vnd.jupyter.widget-view+json": {
       "model_id": "ddb776c099394fc184e91ed33c9ffecc",
       "version_major": 2,
       "version_minor": 0
      },
      "text/plain": [
       "0it [00:00, ?it/s]"
      ]
     },
     "metadata": {},
     "output_type": "display_data"
    },
    {
     "data": {
      "application/vnd.jupyter.widget-view+json": {
       "model_id": "91e6abac66af46ffa052cad6532f4b49",
       "version_major": 2,
       "version_minor": 0
      },
      "text/plain": [
       "0it [00:00, ?it/s]"
      ]
     },
     "metadata": {},
     "output_type": "display_data"
    },
    {
     "data": {
      "application/vnd.jupyter.widget-view+json": {
       "model_id": "e5c2a3a9f6f542aa99bd935a915cf620",
       "version_major": 2,
       "version_minor": 0
      },
      "text/plain": [
       "0it [00:00, ?it/s]"
      ]
     },
     "metadata": {},
     "output_type": "display_data"
    },
    {
     "data": {
      "text/html": [
       "<div>\n",
       "<style scoped>\n",
       "    .dataframe tbody tr th:only-of-type {\n",
       "        vertical-align: middle;\n",
       "    }\n",
       "\n",
       "    .dataframe tbody tr th {\n",
       "        vertical-align: top;\n",
       "    }\n",
       "\n",
       "    .dataframe thead th {\n",
       "        text-align: right;\n",
       "    }\n",
       "</style>\n",
       "<table border=\"1\" class=\"dataframe\">\n",
       "  <thead>\n",
       "    <tr style=\"text-align: right;\">\n",
       "      <th></th>\n",
       "      <th>Train Accuracy</th>\n",
       "      <th>Val Accuracy</th>\n",
       "      <th>Train Recall</th>\n",
       "      <th>Train Precision</th>\n",
       "      <th>Train F1</th>\n",
       "      <th>Train ROC AUC</th>\n",
       "      <th>Train GINI</th>\n",
       "      <th>Val Recall</th>\n",
       "      <th>Val Precision</th>\n",
       "      <th>Val F1</th>\n",
       "      <th>Val ROC AUC</th>\n",
       "      <th>Val GINI</th>\n",
       "      <th>Total Time</th>\n",
       "    </tr>\n",
       "  </thead>\n",
       "  <tbody>\n",
       "    <tr>\n",
       "      <th>LogisticRegressor</th>\n",
       "      <td>69.76%</td>\n",
       "      <td>84.80%</td>\n",
       "      <td>69.76%</td>\n",
       "      <td>70.51%</td>\n",
       "      <td>69.48%</td>\n",
       "      <td>0.775</td>\n",
       "      <td>0.549</td>\n",
       "      <td>84.80%</td>\n",
       "      <td>88.28%</td>\n",
       "      <td>86.17%</td>\n",
       "      <td>0.873</td>\n",
       "      <td>0.747</td>\n",
       "      <td>0.96s</td>\n",
       "    </tr>\n",
       "    <tr>\n",
       "      <th>GaussianNB</th>\n",
       "      <td>66.72%</td>\n",
       "      <td>79.66%</td>\n",
       "      <td>66.72%</td>\n",
       "      <td>70.63%</td>\n",
       "      <td>65.07%</td>\n",
       "      <td>0.746</td>\n",
       "      <td>0.493</td>\n",
       "      <td>79.66%</td>\n",
       "      <td>84.95%</td>\n",
       "      <td>81.85%</td>\n",
       "      <td>0.721</td>\n",
       "      <td>0.441</td>\n",
       "      <td>1.02s</td>\n",
       "    </tr>\n",
       "    <tr>\n",
       "      <th>RandomForestClassifier</th>\n",
       "      <td>74.26%</td>\n",
       "      <td>33.64%</td>\n",
       "      <td>74.26%</td>\n",
       "      <td>75.80%</td>\n",
       "      <td>73.87%</td>\n",
       "      <td>0.835</td>\n",
       "      <td>0.671</td>\n",
       "      <td>33.64%</td>\n",
       "      <td>77.31%</td>\n",
       "      <td>41.43%</td>\n",
       "      <td>0.546</td>\n",
       "      <td>0.092</td>\n",
       "      <td>3.05s</td>\n",
       "    </tr>\n",
       "    <tr>\n",
       "      <th>DecisionTreeClassifier</th>\n",
       "      <td>74.27%</td>\n",
       "      <td>36.93%</td>\n",
       "      <td>74.27%</td>\n",
       "      <td>75.89%</td>\n",
       "      <td>73.87%</td>\n",
       "      <td>0.836</td>\n",
       "      <td>0.671</td>\n",
       "      <td>36.93%</td>\n",
       "      <td>78.44%</td>\n",
       "      <td>45.18%</td>\n",
       "      <td>0.453</td>\n",
       "      <td>-0.094</td>\n",
       "      <td>0.83s</td>\n",
       "    </tr>\n",
       "    <tr>\n",
       "      <th>GradientBoostingClassifier</th>\n",
       "      <td>72.94%</td>\n",
       "      <td>56.37%</td>\n",
       "      <td>72.94%</td>\n",
       "      <td>74.30%</td>\n",
       "      <td>72.55%</td>\n",
       "      <td>0.817</td>\n",
       "      <td>0.634</td>\n",
       "      <td>56.37%</td>\n",
       "      <td>82.41%</td>\n",
       "      <td>62.79%</td>\n",
       "      <td>0.680</td>\n",
       "      <td>0.359</td>\n",
       "      <td>2.41s</td>\n",
       "    </tr>\n",
       "  </tbody>\n",
       "</table>\n",
       "</div>"
      ],
      "text/plain": [
       "                           Train Accuracy Val Accuracy Train Recall  \\\n",
       "LogisticRegressor                  69.76%       84.80%       69.76%   \n",
       "GaussianNB                         66.72%       79.66%       66.72%   \n",
       "RandomForestClassifier             74.26%       33.64%       74.26%   \n",
       "DecisionTreeClassifier             74.27%       36.93%       74.27%   \n",
       "GradientBoostingClassifier         72.94%       56.37%       72.94%   \n",
       "\n",
       "                           Train Precision Train F1 Train ROC AUC Train GINI  \\\n",
       "LogisticRegressor                   70.51%   69.48%         0.775      0.549   \n",
       "GaussianNB                          70.63%   65.07%         0.746      0.493   \n",
       "RandomForestClassifier              75.80%   73.87%         0.835      0.671   \n",
       "DecisionTreeClassifier              75.89%   73.87%         0.836      0.671   \n",
       "GradientBoostingClassifier          74.30%   72.55%         0.817      0.634   \n",
       "\n",
       "                           Val Recall Val Precision  Val F1 Val ROC AUC  \\\n",
       "LogisticRegressor              84.80%        88.28%  86.17%       0.873   \n",
       "GaussianNB                     79.66%        84.95%  81.85%       0.721   \n",
       "RandomForestClassifier         33.64%        77.31%  41.43%       0.546   \n",
       "DecisionTreeClassifier         36.93%        78.44%  45.18%       0.453   \n",
       "GradientBoostingClassifier     56.37%        82.41%  62.79%       0.680   \n",
       "\n",
       "                           Val GINI Total Time  \n",
       "LogisticRegressor             0.747      0.96s  \n",
       "GaussianNB                    0.441      1.02s  \n",
       "RandomForestClassifier        0.092      3.05s  \n",
       "DecisionTreeClassifier       -0.094      0.83s  \n",
       "GradientBoostingClassifier    0.359      2.41s  "
      ]
     },
     "metadata": {},
     "output_type": "display_data"
    }
   ],
   "source": [
    "# Define undersampling techniques\n",
    "res_list = [('TomekLinks', TomekLinks()),\n",
    "            ('NearMiss', NearMiss())]\n",
    "\n",
    "outputs_u = []\n",
    "for title, res in res_list:\n",
    "    print(colored(title, 'red', attrs=['bold']).center(120, \"-\"))\n",
    "    # Store the DataFrame returned by auto_ml\n",
    "    results_df = auto_ml(X_trainval, y_trainval, models_dict, \n",
    "                        cv=StratifiedKFold(n_splits=5), res_t=res)\n",
    "    outputs_u.append(results_df)  # Store the entire DataFrame\n",
    "    display(results_df)  # Display the results"
   ]
  },
  {
   "cell_type": "code",
   "execution_count": 74,
   "metadata": {},
   "outputs": [
    {
     "data": {
      "text/html": [
       "<div>\n",
       "<style scoped>\n",
       "    .dataframe tbody tr th:only-of-type {\n",
       "        vertical-align: middle;\n",
       "    }\n",
       "\n",
       "    .dataframe tbody tr th {\n",
       "        vertical-align: top;\n",
       "    }\n",
       "\n",
       "    .dataframe thead th {\n",
       "        text-align: right;\n",
       "    }\n",
       "</style>\n",
       "<table border=\"1\" class=\"dataframe\">\n",
       "  <thead>\n",
       "    <tr style=\"text-align: right;\">\n",
       "      <th></th>\n",
       "      <th>NoResampling Val Recall</th>\n",
       "      <th>TomekLinks Val Recall</th>\n",
       "      <th>NearMiss Val Recall</th>\n",
       "    </tr>\n",
       "  </thead>\n",
       "  <tbody>\n",
       "    <tr>\n",
       "      <th>LogisticRegressor</th>\n",
       "      <td>90.48%</td>\n",
       "      <td>90.48%</td>\n",
       "      <td>84.80%</td>\n",
       "    </tr>\n",
       "    <tr>\n",
       "      <th>GaussianNB</th>\n",
       "      <td>87.73%</td>\n",
       "      <td>87.73%</td>\n",
       "      <td>79.66%</td>\n",
       "    </tr>\n",
       "    <tr>\n",
       "      <th>RandomForestClassifier</th>\n",
       "      <td>90.04%</td>\n",
       "      <td>90.11%</td>\n",
       "      <td>33.64%</td>\n",
       "    </tr>\n",
       "    <tr>\n",
       "      <th>DecisionTreeClassifier</th>\n",
       "      <td>90.02%</td>\n",
       "      <td>90.02%</td>\n",
       "      <td>36.93%</td>\n",
       "    </tr>\n",
       "    <tr>\n",
       "      <th>GradientBoostingClassifier</th>\n",
       "      <td>90.69%</td>\n",
       "      <td>90.69%</td>\n",
       "      <td>56.37%</td>\n",
       "    </tr>\n",
       "  </tbody>\n",
       "</table>\n",
       "</div>"
      ],
      "text/plain": [
       "                           NoResampling Val Recall TomekLinks Val Recall  \\\n",
       "LogisticRegressor                           90.48%                90.48%   \n",
       "GaussianNB                                  87.73%                87.73%   \n",
       "RandomForestClassifier                      90.04%                90.11%   \n",
       "DecisionTreeClassifier                      90.02%                90.02%   \n",
       "GradientBoostingClassifier                  90.69%                90.69%   \n",
       "\n",
       "                           NearMiss Val Recall  \n",
       "LogisticRegressor                       84.80%  \n",
       "GaussianNB                              79.66%  \n",
       "RandomForestClassifier                  33.64%  \n",
       "DecisionTreeClassifier                  36.93%  \n",
       "GradientBoostingClassifier              56.37%  "
      ]
     },
     "execution_count": 74,
     "metadata": {},
     "output_type": "execute_result"
    }
   ],
   "source": [
    "# Create comparison DataFrame\n",
    "ps_under = pd.DataFrame(index=models_dict.keys())\n",
    "ps_under['NoResampling Val Recall'] = auto_run['Val Recall']\n",
    "ps_under['TomekLinks Val Recall'] = outputs_u[0]['Val Recall']\n",
    "ps_under['NearMiss Val Recall'] = outputs_u[1]['Val Recall']\n",
    "ps_under"
   ]
  },
  {
   "cell_type": "code",
   "execution_count": 75,
   "metadata": {},
   "outputs": [
    {
     "data": {
      "image/png": "[encoded data removed]",
      "text/plain": [
       "<Figure size 2000x800 with 1 Axes>"
      ]
     },
     "metadata": {},
     "output_type": "display_data"
    }
   ],
   "source": [
    "# Convert percentage strings to floats for plotting\n",
    "for col in ps_under.columns:\n",
    "    ps_under[col] = ps_under[col].str.rstrip('%').astype(float)\n",
    "\n",
    "# Create visualization\n",
    "fig, ax = plt.subplots(figsize=(20, 8))\n",
    "ps_under.plot.bar(ax=ax)\n",
    "ax.set_ylabel('Recall Score (%)', fontsize=12)\n",
    "for spine in ['right', 'top']:\n",
    "        ax.spines[spine].set_visible(False)\n",
    "ax.legend(edgecolor='white')\n",
    "fig.suptitle(\"Resampling Techniques-Undersampling\", size=15, y=0.9, weight='bold')\n",
    "plt.xticks(rotation=45, fontsize=12)\n",
    "plt.show()"
   ]
  },
  {
   "cell_type": "markdown",
   "metadata": {},
   "source": [
    "# Based on the results shown in the undersampling visualization, here's the interpretation:\n",
    "\n",
    "## TomekLinks Performance\n",
    "- TomekLinks (orange bars) showed very similar performance to no resampling (blue bars) across all models\n",
    "- This suggests that TomekLinks had minimal impact on the data distribution, likely because it only removes a small number of borderline cases where majority class instances are too close to minority class instances\n",
    "\n",
    "## NearMiss Performance \n",
    "- NearMiss (green bars) significantly degraded model performance across all classifiers\n",
    "- The most dramatic drops were seen in:\n",
    "  - RandomForestClassifier (from ~90% to ~33%)\n",
    "  - DecisionTreeClassifier (from ~90% to ~37%) \n",
    "  - GradientBoostingClassifier (from ~90% to ~56%)\n",
    "- Only LogisticRegression and GaussianNB maintained relatively better performance with NearMiss, though still worse than no resampling\n",
    "\n",
    "## Overall Conclusion\n",
    "- Similar to our oversampling results, undersampling techniques did not improve model performance\n",
    "- In fact, NearMiss performed significantly worse than both no resampling and TomekLinks\n",
    "- This suggests that:\n",
    "  1. The original class imbalance might not be severe enough to require resampling\n",
    "  2. NearMiss may be removing too many majority class samples, leading to loss of important information\n",
    "- The base models are handling the moderate imbalance well without requiring undersampling\n",
    "\n",
    "## Recommendation\n",
    "- Based on both oversampling and undersampling results, it would be best to proceed with the original data without any resampling techniques\n",
    "- The models are performing well with the natural class distribution, and any attempt to artificially balance the classes has either maintained or degraded performance"
   ]
  }
 ],
 "metadata": {
  "kernelspec": {
   "display_name": "Python 3",
   "language": "python",
   "name": "python3"
  },
  "language_info": {
   "codemirror_mode": {
    "name": "ipython",
    "version": 3
   },
   "file_extension": ".py",
   "mimetype": "text/x-python",
   "name": "python",
   "nbconvert_exporter": "python",
   "pygments_lexer": "ipython3",
   "version": "3.12.2"
  }
 },
 "nbformat": 4,
 "nbformat_minor": 2
}
