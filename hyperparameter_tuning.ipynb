{
 "cells": [
  {
   "cell_type": "markdown",
   "metadata": {},
   "source": [
    "# Hyperparameter Tuning\n",
    "Created by: Pat Pascual"
   ]
  },
  {
   "cell_type": "code",
   "execution_count": 16,
   "metadata": {},
   "outputs": [],
   "source": [
    "# general libraries\n",
    "import re\n",
    "import time\n",
    "import json\n",
    "import pickle\n",
    "import warnings\n",
    "import numpy as np\n",
    "import pandas as pd\n",
    "from tqdm.notebook import tqdm\n",
    "from collections import Counter\n",
    "warnings.filterwarnings(\"ignore\")\n",
    "\n",
    "# visualizations\n",
    "import seaborn as sns\n",
    "from termcolor import colored\n",
    "import matplotlib.pyplot as plt\n",
    "import plotly.graph_objects as go\n",
    "\n",
    "# modelling\n",
    "from sklearn.preprocessing import MinMaxScaler\n",
    "from sklearn.model_selection import (train_test_split, GridSearchCV,\n",
    "                                     StratifiedKFold, RandomizedSearchCV)\n",
    "from sklearn.neighbors import KNeighborsClassifier\n",
    "from sklearn.svm import SVC\n",
    "from sklearn.linear_model import LogisticRegression\n",
    "from sklearn.naive_bayes import GaussianNB\n",
    "from sklearn.tree import DecisionTreeClassifier\n",
    "from sklearn.ensemble import (RandomForestClassifier,\n",
    "                              GradientBoostingClassifier)\n",
    "from sklearn.model_selection import cross_validate\n",
    "from sklearn.metrics import (ConfusionMatrixDisplay, precision_score, recall_score,\n",
    "                           roc_curve, precision_recall_curve)\n",
    "\n",
    "# imbalanced techniques\n",
    "from imblearn.pipeline import Pipeline, make_pipeline\n",
    "from imblearn.over_sampling import (SMOTE, ADASYN, BorderlineSMOTE, SVMSMOTE)\n",
    "from imblearn.under_sampling import (TomekLinks, NearMiss, AllKNN,\n",
    "                                     EditedNearestNeighbours,\n",
    "                                     RepeatedEditedNearestNeighbours)\n",
    "from imblearn.combine import SMOTETomek, SMOTEENN"
   ]
  },
  {
   "cell_type": "code",
   "execution_count": 2,
   "metadata": {},
   "outputs": [],
   "source": [
    "clean = pd.read_csv('df_cleaned.csv')"
   ]
  },
  {
   "cell_type": "code",
   "execution_count": 3,
   "metadata": {},
   "outputs": [],
   "source": [
    "# Split data into train-validation-holdout sets\n",
    "X = clean.drop(['Response'], axis=1)\n",
    "y = clean['Response']\n",
    "\n",
    "# First split: separate holdout set (75% train+val, 25% holdout)\n",
    "X_trainval, X_holdout, y_trainval, y_holdout = train_test_split(\n",
    "    X, y,\n",
    "    test_size=0.25,  # 25% holdout\n",
    "    random_state=11,\n",
    "    stratify=y  # Maintain class distribution\n",
    ")"
   ]
  },
  {
   "cell_type": "code",
   "execution_count": 4,
   "metadata": {},
   "outputs": [],
   "source": [
    "def auto_ml(X_trainval, y_trainval, models_dict, cv=None, res_t=None):\n",
    "    \"\"\"Apply ML models with optional resampling\"\"\"\n",
    "    from sklearn.metrics import f1_score, precision_score, recall_score, roc_auc_score\n",
    "    results = {}\n",
    "    \n",
    "    # For each model\n",
    "    for model_name, model in tqdm(models_dict.items()):\n",
    "        model_start = time.time()\n",
    "        \n",
    "        # Initialize metric lists\n",
    "        train_scores, val_scores = [], []\n",
    "        train_recall, val_recall = [], []\n",
    "        train_precision, val_precision = [], []\n",
    "        train_f1, val_f1 = [], []\n",
    "        train_roc_auc, val_roc_auc = [], []\n",
    "        \n",
    "        # For each fold\n",
    "        for train_index, val_index in tqdm(cv.split(X_trainval, y_trainval)):\n",
    "            X_train, X_val = X_trainval.iloc[train_index], X_trainval.iloc[val_index]\n",
    "            y_train, y_val = y_trainval.iloc[train_index], y_trainval.iloc[val_index]\n",
    "\n",
    "            # Apply resampling\n",
    "            if res_t is not None:\n",
    "                X_train, y_train = res_t.fit_resample(X_train, y_train)\n",
    "\n",
    "            # Fit and predict\n",
    "            model.fit(X_train, y_train)\n",
    "            train_preds = model.predict(X_train)\n",
    "            val_preds = model.predict(X_val)\n",
    "            \n",
    "            # Get probability predictions for ROC AUC\n",
    "            train_probs = model.predict_proba(X_train)[:,1]\n",
    "            val_probs = model.predict_proba(X_val)[:,1]\n",
    "\n",
    "            # Calculate metrics\n",
    "            train_scores.append(model.score(X_train, y_train))\n",
    "            val_scores.append(model.score(X_val, y_val))\n",
    "            train_recall.append(recall_score(y_train, train_preds, average='weighted'))\n",
    "            val_recall.append(recall_score(y_val, val_preds, average='weighted'))\n",
    "            train_precision.append(precision_score(y_train, train_preds, average='weighted'))\n",
    "            val_precision.append(precision_score(y_val, val_preds, average='weighted'))\n",
    "            train_f1.append(f1_score(y_train, train_preds, average='weighted'))\n",
    "            val_f1.append(f1_score(y_val, val_preds, average='weighted'))\n",
    "            train_roc_auc.append(roc_auc_score(y_train, train_probs))\n",
    "            val_roc_auc.append(roc_auc_score(y_val, val_probs))\n",
    "\n",
    "        # Store aggregated results\n",
    "        results[model_name] = {\n",
    "            'Train Accuracy': f\"{np.mean(train_scores)*100:.2f}%\",\n",
    "            'Val Accuracy': f\"{np.mean(val_scores)*100:.2f}%\",\n",
    "            'Train Recall': f\"{np.mean(train_recall)*100:.2f}%\", \n",
    "            'Train Precision': f\"{np.mean(train_precision)*100:.2f}%\",\n",
    "            'Train F1': f\"{np.mean(train_f1)*100:.2f}%\",\n",
    "            'Train ROC AUC': f\"{np.mean(train_roc_auc):.3f}\",\n",
    "            'Train GINI': f\"{2*np.mean(train_roc_auc)-1:.3f}\",\n",
    "            'Val Recall': f\"{np.mean(val_recall)*100:.2f}%\",\n",
    "            'Val Precision': f\"{np.mean(val_precision)*100:.2f}%\",\n",
    "            'Val F1': f\"{np.mean(val_f1)*100:.2f}%\",\n",
    "            'Val ROC AUC': f\"{np.mean(val_roc_auc):.3f}\",\n",
    "            'Val GINI': f\"{2*np.mean(val_roc_auc)-1:.3f}\",\n",
    "            'Total Time': f\"{time.time() - model_start:.2f}s\"\n",
    "        }\n",
    "\n",
    "    return pd.DataFrame(results).T"
   ]
  },
  {
   "cell_type": "code",
   "execution_count": 5,
   "metadata": {},
   "outputs": [],
   "source": [
    "models_dict = {'LogisticRegressor': LogisticRegression(),\n",
    "               'GaussianNB': GaussianNB(),\n",
    "               'RandomForestClassifier': RandomForestClassifier(random_state=143),\n",
    "               'DecisionTreeClassifier': DecisionTreeClassifier(random_state=143),\n",
    "               'GradientBoostingClassifier': GradientBoostingClassifier(random_state=143)}"
   ]
  },
  {
   "cell_type": "code",
   "execution_count": 6,
   "metadata": {},
   "outputs": [
    {
     "data": {
      "application/vnd.jupyter.widget-view+json": {
       "model_id": "621d4a7ea7024f198868dd32aa2956fc",
       "version_major": 2,
       "version_minor": 0
      },
      "text/plain": [
       "  0%|          | 0/5 [00:00<?, ?it/s]"
      ]
     },
     "metadata": {},
     "output_type": "display_data"
    },
    {
     "data": {
      "application/vnd.jupyter.widget-view+json": {
       "model_id": "302a63f3751e450382b96b18eec70b6c",
       "version_major": 2,
       "version_minor": 0
      },
      "text/plain": [
       "0it [00:00, ?it/s]"
      ]
     },
     "metadata": {},
     "output_type": "display_data"
    },
    {
     "data": {
      "application/vnd.jupyter.widget-view+json": {
       "model_id": "48d37693c66a4a80b1c3f505df3cec37",
       "version_major": 2,
       "version_minor": 0
      },
      "text/plain": [
       "0it [00:00, ?it/s]"
      ]
     },
     "metadata": {},
     "output_type": "display_data"
    },
    {
     "data": {
      "application/vnd.jupyter.widget-view+json": {
       "model_id": "9b2c81ba3fef42158a891cd467cc6f0c",
       "version_major": 2,
       "version_minor": 0
      },
      "text/plain": [
       "0it [00:00, ?it/s]"
      ]
     },
     "metadata": {},
     "output_type": "display_data"
    },
    {
     "data": {
      "application/vnd.jupyter.widget-view+json": {
       "model_id": "bd8a445a2b8b4b2f88221b0183cc4f6b",
       "version_major": 2,
       "version_minor": 0
      },
      "text/plain": [
       "0it [00:00, ?it/s]"
      ]
     },
     "metadata": {},
     "output_type": "display_data"
    },
    {
     "data": {
      "application/vnd.jupyter.widget-view+json": {
       "model_id": "503530f3a8df4b8393286fc3e5f2428e",
       "version_major": 2,
       "version_minor": 0
      },
      "text/plain": [
       "0it [00:00, ?it/s]"
      ]
     },
     "metadata": {},
     "output_type": "display_data"
    },
    {
     "data": {
      "text/html": [
       "<div>\n",
       "<style scoped>\n",
       "    .dataframe tbody tr th:only-of-type {\n",
       "        vertical-align: middle;\n",
       "    }\n",
       "\n",
       "    .dataframe tbody tr th {\n",
       "        vertical-align: top;\n",
       "    }\n",
       "\n",
       "    .dataframe thead th {\n",
       "        text-align: right;\n",
       "    }\n",
       "</style>\n",
       "<table border=\"1\" class=\"dataframe\">\n",
       "  <thead>\n",
       "    <tr style=\"text-align: right;\">\n",
       "      <th></th>\n",
       "      <th>Train Accuracy</th>\n",
       "      <th>Val Accuracy</th>\n",
       "      <th>Train Recall</th>\n",
       "      <th>Train Precision</th>\n",
       "      <th>Train F1</th>\n",
       "      <th>Train ROC AUC</th>\n",
       "      <th>Train GINI</th>\n",
       "      <th>Val Recall</th>\n",
       "      <th>Val Precision</th>\n",
       "      <th>Val F1</th>\n",
       "      <th>Val ROC AUC</th>\n",
       "      <th>Val GINI</th>\n",
       "      <th>Total Time</th>\n",
       "    </tr>\n",
       "  </thead>\n",
       "  <tbody>\n",
       "    <tr>\n",
       "      <th>LogisticRegressor</th>\n",
       "      <td>90.50%</td>\n",
       "      <td>90.48%</td>\n",
       "      <td>90.50%</td>\n",
       "      <td>88.99%</td>\n",
       "      <td>88.97%</td>\n",
       "      <td>0.895</td>\n",
       "      <td>0.790</td>\n",
       "      <td>90.48%</td>\n",
       "      <td>88.95%</td>\n",
       "      <td>88.93%</td>\n",
       "      <td>0.894</td>\n",
       "      <td>0.789</td>\n",
       "      <td>0.48s</td>\n",
       "    </tr>\n",
       "    <tr>\n",
       "      <th>GaussianNB</th>\n",
       "      <td>87.73%</td>\n",
       "      <td>87.73%</td>\n",
       "      <td>87.73%</td>\n",
       "      <td>86.62%</td>\n",
       "      <td>87.10%</td>\n",
       "      <td>0.847</td>\n",
       "      <td>0.694</td>\n",
       "      <td>87.73%</td>\n",
       "      <td>86.63%</td>\n",
       "      <td>87.10%</td>\n",
       "      <td>0.846</td>\n",
       "      <td>0.691</td>\n",
       "      <td>0.35s</td>\n",
       "    </tr>\n",
       "    <tr>\n",
       "      <th>RandomForestClassifier</th>\n",
       "      <td>91.54%</td>\n",
       "      <td>90.04%</td>\n",
       "      <td>91.54%</td>\n",
       "      <td>90.54%</td>\n",
       "      <td>90.27%</td>\n",
       "      <td>0.925</td>\n",
       "      <td>0.849</td>\n",
       "      <td>90.04%</td>\n",
       "      <td>88.31%</td>\n",
       "      <td>88.49%</td>\n",
       "      <td>0.893</td>\n",
       "      <td>0.786</td>\n",
       "      <td>5.05s</td>\n",
       "    </tr>\n",
       "    <tr>\n",
       "      <th>DecisionTreeClassifier</th>\n",
       "      <td>91.54%</td>\n",
       "      <td>90.02%</td>\n",
       "      <td>91.54%</td>\n",
       "      <td>90.65%</td>\n",
       "      <td>90.06%</td>\n",
       "      <td>0.926</td>\n",
       "      <td>0.851</td>\n",
       "      <td>90.02%</td>\n",
       "      <td>88.19%</td>\n",
       "      <td>88.22%</td>\n",
       "      <td>0.866</td>\n",
       "      <td>0.731</td>\n",
       "      <td>0.27s</td>\n",
       "    </tr>\n",
       "    <tr>\n",
       "      <th>GradientBoostingClassifier</th>\n",
       "      <td>90.88%</td>\n",
       "      <td>90.69%</td>\n",
       "      <td>90.88%</td>\n",
       "      <td>89.59%</td>\n",
       "      <td>89.62%</td>\n",
       "      <td>0.912</td>\n",
       "      <td>0.824</td>\n",
       "      <td>90.69%</td>\n",
       "      <td>89.32%</td>\n",
       "      <td>89.41%</td>\n",
       "      <td>0.907</td>\n",
       "      <td>0.813</td>\n",
       "      <td>4.34s</td>\n",
       "    </tr>\n",
       "  </tbody>\n",
       "</table>\n",
       "</div>"
      ],
      "text/plain": [
       "                           Train Accuracy Val Accuracy Train Recall  \\\n",
       "LogisticRegressor                  90.50%       90.48%       90.50%   \n",
       "GaussianNB                         87.73%       87.73%       87.73%   \n",
       "RandomForestClassifier             91.54%       90.04%       91.54%   \n",
       "DecisionTreeClassifier             91.54%       90.02%       91.54%   \n",
       "GradientBoostingClassifier         90.88%       90.69%       90.88%   \n",
       "\n",
       "                           Train Precision Train F1 Train ROC AUC Train GINI  \\\n",
       "LogisticRegressor                   88.99%   88.97%         0.895      0.790   \n",
       "GaussianNB                          86.62%   87.10%         0.847      0.694   \n",
       "RandomForestClassifier              90.54%   90.27%         0.925      0.849   \n",
       "DecisionTreeClassifier              90.65%   90.06%         0.926      0.851   \n",
       "GradientBoostingClassifier          89.59%   89.62%         0.912      0.824   \n",
       "\n",
       "                           Val Recall Val Precision  Val F1 Val ROC AUC  \\\n",
       "LogisticRegressor              90.48%        88.95%  88.93%       0.894   \n",
       "GaussianNB                     87.73%        86.63%  87.10%       0.846   \n",
       "RandomForestClassifier         90.04%        88.31%  88.49%       0.893   \n",
       "DecisionTreeClassifier         90.02%        88.19%  88.22%       0.866   \n",
       "GradientBoostingClassifier     90.69%        89.32%  89.41%       0.907   \n",
       "\n",
       "                           Val GINI Total Time  \n",
       "LogisticRegressor             0.789      0.48s  \n",
       "GaussianNB                    0.691      0.35s  \n",
       "RandomForestClassifier        0.786      5.05s  \n",
       "DecisionTreeClassifier        0.731      0.27s  \n",
       "GradientBoostingClassifier    0.813      4.34s  "
      ]
     },
     "metadata": {},
     "output_type": "display_data"
    }
   ],
   "source": [
    "auto_run = auto_ml(X_trainval, y_trainval, models_dict,\n",
    "                   cv=StratifiedKFold(n_splits=5))\n",
    "# Display the results\n",
    "display(auto_run)"
   ]
  },
  {
   "cell_type": "markdown",
   "metadata": {},
   "source": [
    "## Model Selection Strategy\n",
    "From the base modeling results, we'll focus on optimizing the Gradient Boosting Classifier because:\n",
    "1. It showed strong performance across metrics (90.69% validation recall)\n",
    "2. It demonstrated good balance between precision and recall\n",
    "3. It had the highest ROC AUC (0.907) among all models\n",
    "4. It's less prone to overfitting compared to Random Forests due to its sequential nature\n",
    "\n",
    "## GridSearchCV vs RandomizedSearchCV\n",
    "- **GridSearchCV**: \n",
    "  - Systematically works through every combination of parameter values\n",
    "  - Guaranteed to find the best combination in the search space\n",
    "  - Computationally expensive with large parameter spaces\n",
    "  - Best when you have a good idea of parameter ranges\n",
    "\n",
    "- **RandomizedSearchCV**:\n",
    "  - Samples random combinations from parameter distributions\n",
    "  - Can handle larger parameter spaces efficiently\n",
    "  - May miss optimal combinations but usually finds good ones\n",
    "  - Better when exploring wide parameter ranges\n",
    "\n",
    "We'll use both approaches to compare results."
   ]
  },
  {
   "cell_type": "code",
   "execution_count": 7,
   "metadata": {},
   "outputs": [],
   "source": [
    "# Define parameter grids\n",
    "grid_params = {\n",
    "    'n_estimators': [100, 200, 300],\n",
    "    'learning_rate': [0.01, 0.05, 0.1],\n",
    "    'max_depth': [3, 4, 5],\n",
    "    'min_samples_split': [2, 5, 10],\n",
    "    'min_samples_leaf': [1, 2, 4],\n",
    "    'subsample': [0.8, 0.9, 1.0]\n",
    "}\n",
    "\n",
    "# For RandomizedSearchCV, use distributions\n",
    "random_params = {\n",
    "    'n_estimators': np.arange(100, 500),\n",
    "    'learning_rate': np.logspace(-3, 0, 1000),\n",
    "    'max_depth': np.arange(3, 10),\n",
    "    'min_samples_split': np.arange(2, 20),\n",
    "    'min_samples_leaf': np.arange(1, 10),\n",
    "    'subsample': np.linspace(0.6, 1.0, 100)\n",
    "}"
   ]
  },
  {
   "cell_type": "code",
   "execution_count": 9,
   "metadata": {},
   "outputs": [
    {
     "name": "stdout",
     "output_type": "stream",
     "text": [
      "Fitting 5 folds for each of 729 candidates, totalling 3645 fits\n",
      "Best parameters (Grid Search): {'learning_rate': 0.05, 'max_depth': 4, 'min_samples_leaf': 2, 'min_samples_split': 2, 'n_estimators': 200, 'subsample': 1.0}\n",
      "Best ROC AUC score (Grid Search): 0.9061798895067692\n"
     ]
    }
   ],
   "source": [
    "# Split training data into train and validation sets\n",
    "X_train, X_val, y_train, y_val = train_test_split(\n",
    "    X_trainval, y_trainval,\n",
    "    test_size=0.25,  # 25% validation\n",
    "    random_state=11,\n",
    "    stratify=y_trainval\n",
    ")\n",
    "\n",
    "# Perform Grid Search\n",
    "gb_grid = GridSearchCV(\n",
    "    GradientBoostingClassifier(),\n",
    "    grid_params,\n",
    "    cv=5,\n",
    "    scoring='roc_auc',\n",
    "    n_jobs=-1,\n",
    "    verbose=1\n",
    ")\n",
    "\n",
    "gb_grid.fit(X_train, y_train)\n",
    "\n",
    "print(\"Best parameters (Grid Search):\", gb_grid.best_params_)\n",
    "print(\"Best ROC AUC score (Grid Search):\", gb_grid.best_score_)"
   ]
  },
  {
   "cell_type": "code",
   "execution_count": 13,
   "metadata": {},
   "outputs": [
    {
     "name": "stdout",
     "output_type": "stream",
     "text": [
      "Fitting 5 folds for each of 50 candidates, totalling 250 fits\n",
      "Best parameters (Random Search): {'subsample': 0.8, 'n_estimators': 100, 'min_samples_split': 2, 'min_samples_leaf': 4, 'max_depth': 4, 'learning_rate': 0.05}\n",
      "Best ROC AUC score (Random Search): 0.9055767870972087\n"
     ]
    }
   ],
   "source": [
    "# Perform Randomized Search with reduced parameter space\n",
    "random_params = {\n",
    "    'n_estimators': [100, 200, 300, 400],  # Discrete values instead of range\n",
    "    'learning_rate': [0.001, 0.01, 0.05, 0.1, 0.5, 1.0],  # Discrete values instead of logspace\n",
    "    'max_depth': [3, 4, 5, 6, 7, 8, 9],  # Discrete values instead of range\n",
    "    'min_samples_split': [2, 5, 10, 15],  # Discrete values instead of range  \n",
    "    'min_samples_leaf': [1, 2, 4, 6, 8],  # Discrete values instead of range\n",
    "    'subsample': [0.6, 0.7, 0.8, 0.9, 1.0]  # Discrete values instead of linspace\n",
    "}\n",
    "\n",
    "gb_random = RandomizedSearchCV(\n",
    "    GradientBoostingClassifier(),\n",
    "    random_params,\n",
    "    n_iter=50,  # Reduced number of iterations\n",
    "    cv=5,\n",
    "    scoring='roc_auc',\n",
    "    n_jobs=-1, \n",
    "    verbose=1,\n",
    "    random_state=11\n",
    ")\n",
    "\n",
    "gb_random.fit(X_train, y_train)\n",
    "\n",
    "print(\"Best parameters (Random Search):\", gb_random.best_params_)\n",
    "print(\"Best ROC AUC score (Random Search):\", gb_random.best_score_)"
   ]
  },
  {
   "cell_type": "markdown",
   "metadata": {},
   "source": [
    "## Threshold Optimization\n",
    "\n",
    "Instead of using the default 0.5 threshold, we'll optimize it based on business objectives:\n",
    "1. Plot ROC curve to visualize tradeoffs\n",
    "2. Plot Precision-Recall curve\n",
    "3. Find optimal threshold based on F1 score\n",
    "4. Consider business cost of false positives vs false negatives"
   ]
  },
  {
   "cell_type": "code",
   "execution_count": 17,
   "metadata": {},
   "outputs": [
    {
     "data": {
      "image/png": "[encoded data removed]",
      "text/plain": [
       "<Figure size 1500x500 with 2 Axes>"
      ]
     },
     "metadata": {},
     "output_type": "display_data"
    }
   ],
   "source": [
    "# Get best model (using Grid Search results)\n",
    "best_model = gb_grid.best_estimator_\n",
    "\n",
    "# Get predicted probabilities\n",
    "y_pred_proba = best_model.predict_proba(X_val)[:, 1]\n",
    "\n",
    "# Calculate ROC curve\n",
    "fpr, tpr, thresholds_roc = roc_curve(y_val, y_pred_proba)\n",
    "\n",
    "# Calculate Precision-Recall curve\n",
    "precision, recall, thresholds_pr = precision_recall_curve(y_val, y_pred_proba)\n",
    "\n",
    "# Plot both curves\n",
    "fig, (ax1, ax2) = plt.subplots(1, 2, figsize=(15, 5))\n",
    "\n",
    "# ROC curve\n",
    "ax1.plot(fpr, tpr)\n",
    "ax1.plot([0, 1], [0, 1], 'k--')\n",
    "ax1.set_xlabel('False Positive Rate')\n",
    "ax1.set_ylabel('True Positive Rate')\n",
    "ax1.set_title('ROC Curve')\n",
    "\n",
    "# Precision-Recall curve\n",
    "ax2.plot(recall, precision)\n",
    "ax2.set_xlabel('Recall')\n",
    "ax2.set_ylabel('Precision')\n",
    "ax2.set_title('Precision-Recall Curve')\n",
    "\n",
    "plt.tight_layout()\n",
    "plt.show()"
   ]
  },
  {
   "cell_type": "code",
   "execution_count": 18,
   "metadata": {},
   "outputs": [
    {
     "name": "stdout",
     "output_type": "stream",
     "text": [
      "Optimal threshold based on F1 score: 0.274\n",
      "F1 score at optimal threshold: 0.530\n",
      "Precision at optimal threshold: 0.508\n",
      "Recall at optimal threshold: 0.554\n"
     ]
    }
   ],
   "source": [
    "# Find optimal threshold based on F1 score\n",
    "f1_scores = 2 * (precision * recall) / (precision + recall)\n",
    "optimal_idx = np.argmax(f1_scores)\n",
    "optimal_threshold = thresholds_pr[optimal_idx]\n",
    "\n",
    "print(f\"Optimal threshold based on F1 score: {optimal_threshold:.3f}\")\n",
    "print(f\"F1 score at optimal threshold: {f1_scores[optimal_idx]:.3f}\")\n",
    "print(f\"Precision at optimal threshold: {precision[optimal_idx]:.3f}\")\n",
    "print(f\"Recall at optimal threshold: {recall[optimal_idx]:.3f}\")"
   ]
  },
  {
   "cell_type": "markdown",
   "metadata": {},
   "source": [
    "## Final Model Selection and Threshold Choice\n",
    "\n",
    "1. **Model Selection**: The Grid Search provided slightly better and more stable results compared to Random Search. We'll use the Grid Search best model.\n",
    "\n",
    "2. **Threshold Selection**: \n",
    "   - The optimal F1-score threshold balances precision and recall\n",
    "   - Business context should determine final threshold:\n",
    "     - Higher threshold → Higher precision, lower recall\n",
    "     - Lower threshold → Higher recall, lower precision\n",
    "   - Consider cost of false positives vs false negatives\n",
    "\n",
    "3. **Implementation**:\n",
    "   - Save best model parameters\n",
    "   - Save optimal threshold\n",
    "   - Use both for production predictions"
   ]
  }
 ],
 "metadata": {
  "kernelspec": {
   "display_name": "Python 3",
   "language": "python",
   "name": "python3"
  },
  "language_info": {
   "codemirror_mode": {
    "name": "ipython",
    "version": 3
   },
   "file_extension": ".py",
   "mimetype": "text/x-python",
   "name": "python",
   "nbconvert_exporter": "python",
   "pygments_lexer": "ipython3",
   "version": "3.12.2"
  }
 },
 "nbformat": 4,
 "nbformat_minor": 2
}
